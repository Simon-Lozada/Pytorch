{
 "cells": [
  {
   "cell_type": "code",
   "execution_count": null,
   "metadata": {},
   "outputs": [],
   "source": [
    "%matplotlib inline"
   ]
  },
  {
   "cell_type": "markdown",
   "metadata": {},
   "source": [
    "Transforms\n",
    "===================\n",
    "\n",
    "Los datos no siempre vienen en su forma procesada final que se requiere para\n",
    "entrenamiento de algoritmos de aprendizaje automático.  Usamos **transforms** para realizar algunas\n",
    "manipular los datos y hacerlos aptos para el entrenamiento.\n",
    "\n",
    "Todos los conjuntos de datos de TorchVision tienen dos parámetros -``transform`` para modificar las características y``target_transform`` para modificar las etiquetas, que aceptan llamadas que contienen la lógica de transformación.\n",
    "\n",
    "El módulo `torchvision.transforms <https://pytorch.org/vision/stable/transforms.html>`_ ofrece\n",
    "varias transformaciones de uso común listas para usar.\n",
    "\n",
    "Las características de FashionMNIST están en formato de imagen PIL y las etiquetas son números enteros.\n",
    "Para el entrenamiento, necesitamos las características como tensores normalizados y las etiquetas como tensores codificados one-hot.\n",
    "Para hacer estas transformaciones, usamos ``ToTensor`` y ``Lambda``.\n"
   ]
  },
  {
   "cell_type": "code",
   "execution_count": null,
   "metadata": {},
   "outputs": [],
   "source": [
    "import torch\n",
    "from torchvision import datasets\n",
    "from torchvision.transforms import ToTensor, Lambda\n",
    "\n",
    "ds = datasets.FashionMNIST(\n",
    "    root=\"data\",\n",
    "    train=True,\n",
    "    download=True,\n",
    "    transform=ToTensor(),\n",
    "    target_transform=Lambda(lambda y: torch.zeros(10, dtype=torch.float).scatter_(0, torch.tensor(y), value=1))\n",
    ")"
   ]
  },
  {
   "cell_type": "markdown",
   "metadata": {},
   "source": [
    "ToTensor()\n",
    "-------------------------------\n",
    "\n",
    "`ToTensor <https://pytorch.org/vision/stable/transforms.html#torchvision.transforms.ToTensor>`_\n",
    " convierte una imagen PIL o NumPy ``ndarray`` en un ``FloatTensor``.  y escalas\n",
    " los valores de intensidad de píxeles de la imagen en el rango [0., 1.]\n"
   ]
  },
  {
   "cell_type": "markdown",
   "metadata": {},
   "source": [
    "Transformaciones lambda\n",
    " -------------------------------\n",
    "\n",
    " Las transformaciones lambda aplican cualquier función lambda definida por el usuario.  Aquí definimos una función\n",
    " para convertir el entero en un tensor codificado one-hot.\n",
    " Primero crea un tensor cero de tamaño 10 (el número de etiquetas en nuestro conjunto de datos) y llama\n",
    " `scatter_ <https://pytorch.org/docs/stable/generated/torch.Tensor.scatter_.html>`_ que asigna un\n",
    " ``value=1`` en el índice dado por la etiqueta ``y``.\n"
   ]
  },
  {
   "cell_type": "code",
   "execution_count": null,
   "metadata": {},
   "outputs": [],
   "source": [
    "target_transform = Lambda(lambda y: torch.zeros(\n",
    "    10, dtype=torch.float).scatter_(dim=0, index=torch.tensor(y), value=1))"
   ]
  },
  {
   "cell_type": "markdown",
   "metadata": {},
   "source": [
    "--------------\n",
    "\n",
    "\n"
   ]
  },
  {
   "cell_type": "markdown",
   "metadata": {},
   "source": [
    "Otras lecturas\n",
    "~~~~~~~~~~~~~~~~~\n",
    "- `torchvision.transforms API <https://pytorch.org/vision/stable/transforms.html>`_\n",
    "\n"
   ]
  }
 ],
 "metadata": {
  "kernelspec": {
   "display_name": "Python 3 (ipykernel)",
   "language": "python",
   "name": "python3"
  },
  "language_info": {
   "codemirror_mode": {
    "name": "ipython",
    "version": 3
   },
   "file_extension": ".py",
   "mimetype": "text/x-python",
   "name": "python",
   "nbconvert_exporter": "python",
   "pygments_lexer": "ipython3",
   "version": "3.9.7"
  }
 },
 "nbformat": 4,
 "nbformat_minor": 1
}
