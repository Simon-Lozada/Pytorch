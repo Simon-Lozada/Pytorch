{
 "cells": [
  {
   "cell_type": "markdown",
   "id": "5cb5f389",
   "metadata": {},
   "source": [
    "# Aqui pondremos a pruva todos los conocimientos optindos \n",
    "\n",
    "## Usaremos:\n",
    " - Conjunto De datos: MNIST\n",
    " - Librerias para datos: DataLoader, Transformation\n",
    " - Modulo.nn\n",
    " - Soporte de GPU\n",
    "\n",
    "## Haremos\n",
    " - Red neuronal multicapa con funciones de activacion\n",
    " - Calculos de perdida(Loss) y usaremos optimizadores\n",
    " - Bucles de entrenamiento, Con lotes de entranamiento(batch training)\n",
    " - Evalucion de modelo"
   ]
  },
  {
   "cell_type": "code",
   "execution_count": 2,
   "id": "31d32fc2",
   "metadata": {},
   "outputs": [],
   "source": [
    "import torch\n",
    "import torch.nn as nn\n",
    "import torchvision\n",
    "import torchvision.transforms as transforms\n",
    "import matplotlib.pyplot as plt\n"
   ]
  },
  {
   "cell_type": "markdown",
   "id": "d8ddbf0e",
   "metadata": {},
   "source": [
    "### Definimos nuestros hiper parametros"
   ]
  },
  {
   "cell_type": "code",
   "execution_count": 11,
   "id": "715b9ed3",
   "metadata": {},
   "outputs": [],
   "source": [
    "device = torch.device('cuda' if torch.cuda.is_available() else 'cpu')\n",
    "\n",
    "input_size = 784 # 28x28 (tamño de la imagen MNIST)\n",
    "hidden_size = 100\n",
    "num_classes = 10\n",
    "num_epochs = 2\n",
    "batch_size = 100\n",
    "learning_rate = 0.001"
   ]
  },
  {
   "cell_type": "markdown",
   "id": "f527a7a7",
   "metadata": {},
   "source": [
    "### Datos: MNIST"
   ]
  },
  {
   "cell_type": "code",
   "execution_count": 5,
   "id": "a0c03834",
   "metadata": {},
   "outputs": [],
   "source": [
    "train_dataset = torchvision.datasets.MNIST(root=\"./data\", train=True,\n",
    "                                           transform=transforms.ToTensor(), download=True)\n",
    "test_dataset = torchvision.datasets.MNIST(root=\"./data\", train=False,\n",
    "                                           transform=transforms.ToTensor(), download=False)\n",
    "\n",
    "train_loader = torch.utils.data.DataLoader(dataset=train_dataset, batch_size=batch_size,\n",
    "                                          shuffle=True)\n",
    "test_loader = torch.utils.data.DataLoader(dataset=train_dataset, batch_size=batch_size,\n",
    "                                          shuffle=False)"
   ]
  },
  {
   "cell_type": "code",
   "execution_count": 15,
   "id": "19165c21",
   "metadata": {},
   "outputs": [
    {
     "name": "stdout",
     "output_type": "stream",
     "text": [
      "torch.Size([100, 1, 28, 28]) torch.Size([100])\n"
     ]
    }
   ],
   "source": [
    "examples = iter(train_loader)\n",
    "samples, labels = examples.next()\n",
    "# Esto dara: \n",
    "\n",
    "# torch.Size([100, 1, 28, 28]), el \"100\" es el tamaño del lote de entrenamo,\n",
    "#                               el \"1\" es la cantidad de canales de color(en este caso blanco y negro)\n",
    "#                               el \"28, 28\" se refiere al ancho y alto de la imagen(por eso input_size = 784)\n",
    "\n",
    "# torch.Size([100]), esto representa un tensor que contiene cada etiqueta de cada clase (100)\n",
    "print(samples.shape, labels.shape)"
   ]
  },
  {
   "cell_type": "code",
   "execution_count": 8,
   "id": "e819ff5a",
   "metadata": {},
   "outputs": [
    {
     "data": {
      "image/png": "[encoded data removed]",
      "text/plain": [
       "<Figure size 432x288 with 6 Axes>"
      ]
     },
     "metadata": {
      "needs_background": "light"
     },
     "output_type": "display_data"
    }
   ],
   "source": [
    "for i in range(6):\n",
    "    #hacemos un subgrafico de 3*2, y \"i\" es la posicion de cada nuemro\n",
    "    plt.subplot(2, 3, i+1)\n",
    "    #Mostramos el numero correspondiente a \"i\"\n",
    "    plt.imshow(samples[i][0], cmap=\"gray\")\n",
    "\n",
    "plt.show()"
   ]
  },
  {
   "cell_type": "markdown",
   "id": "267625ed",
   "metadata": {},
   "source": [
    "## Red Neuronal"
   ]
  },
  {
   "cell_type": "code",
   "execution_count": 18,
   "id": "5bcf5650",
   "metadata": {},
   "outputs": [],
   "source": [
    "# Red neuronal completamente conectada con una capa oculta\n",
    "class NeuralNet(nn.Module):\n",
    "    def __init__(self, input_size, hidden_size, num_classes):\n",
    "        super(NeuralNet, self).__init__()\n",
    "        self.input_size = input_size\n",
    "        self.l1 = nn.Linear(input_size, hidden_size) \n",
    "        self.relu = nn.ReLU()\n",
    "        self.l2 = nn.Linear(hidden_size, num_classes)  \n",
    "    \n",
    "    def forward(self, x):\n",
    "        out = self.l1(x)\n",
    "        out = self.relu(out)\n",
    "        out = self.l2(out)\n",
    "        # sin activación y sin softmax al final\n",
    "        return out"
   ]
  },
  {
   "cell_type": "code",
   "execution_count": 12,
   "id": "d0e9ff03",
   "metadata": {},
   "outputs": [],
   "source": [
    "model = NeuralNet(input_size, hidden_size, num_classes).to(device)"
   ]
  },
  {
   "cell_type": "markdown",
   "id": "82312b48",
   "metadata": {},
   "source": [
    "## Perdida(Loss) y optimizador\n"
   ]
  },
  {
   "cell_type": "code",
   "execution_count": 13,
   "id": "0711d02b",
   "metadata": {},
   "outputs": [],
   "source": [
    "criterion = nn.CrossEntropyLoss()\n",
    "optimizer = torch.optim.Adam(model.parameters(), lr=learning_rate)  "
   ]
  },
  {
   "cell_type": "markdown",
   "id": "9f2fe164",
   "metadata": {},
   "source": [
    "## Bucle de entrenamiento"
   ]
  },
  {
   "cell_type": "code",
   "execution_count": 19,
   "id": "15eb6627",
   "metadata": {
    "scrolled": true
   },
   "outputs": [
    {
     "name": "stdout",
     "output_type": "stream",
     "text": [
      "Epoch [1/2], Step [100/600], Loss: 0.4394\n",
      "Epoch [1/2], Step [200/600], Loss: 0.2866\n",
      "Epoch [1/2], Step [300/600], Loss: 0.2251\n",
      "Epoch [1/2], Step [400/600], Loss: 0.1104\n",
      "Epoch [1/2], Step [500/600], Loss: 0.2611\n",
      "Epoch [1/2], Step [600/600], Loss: 0.1488\n",
      "Epoch [2/2], Step [100/600], Loss: 0.1119\n",
      "Epoch [2/2], Step [200/600], Loss: 0.1437\n",
      "Epoch [2/2], Step [300/600], Loss: 0.1857\n",
      "Epoch [2/2], Step [400/600], Loss: 0.1151\n",
      "Epoch [2/2], Step [500/600], Loss: 0.1661\n",
      "Epoch [2/2], Step [600/600], Loss: 0.1310\n"
     ]
    }
   ],
   "source": [
    "n_total_steps = len(train_loader)\n",
    "for epoch in range(num_epochs):\n",
    "    for i, (images, labels) in enumerate(train_loader):  \n",
    "        # forma original: [100, 1, 28, 28]\n",
    "        # Nueva forma: [100, 784](\"-1\" significa que se infiere la longitud en esa dimensión)\n",
    "        #  Esto se hace en base a la restricción de que el número de elementos en un ndarrayo Tensorcuando se remodela debe permanecer igual.\n",
    "        images = images.reshape(-1, 28*28).to(device)\n",
    "        \n",
    "        #Ejecutamos nuestras etiquetas con nuestro \"device\"(cpu/gpu)\n",
    "        labels = labels.to(device)\n",
    "        \n",
    "        # Pase hacia adelante\n",
    "        outputs = model(images)\n",
    "        loss = criterion(outputs, labels)\n",
    "        \n",
    "        # Pase hacia adelante y optimizar\n",
    "        optimizer.zero_grad()\n",
    "        loss.backward()\n",
    "        optimizer.step()\n",
    "        \n",
    "        # Vemos los resultados cada 100 pasos\n",
    "        if (i+1) % 100 == 0:\n",
    "            print (f'Epoch [{epoch+1}/{num_epochs}], Step [{i+1}/{n_total_steps}], Loss: {loss.item():.4f}')"
   ]
  },
  {
   "cell_type": "markdown",
   "id": "bd2a19cb",
   "metadata": {},
   "source": [
    "## Testeo"
   ]
  },
  {
   "cell_type": "code",
   "execution_count": 20,
   "id": "7e43f189",
   "metadata": {},
   "outputs": [
    {
     "name": "stdout",
     "output_type": "stream",
     "text": [
      "Accuracy of the network on the 10000 test images: 96.70166666666667 %\n"
     ]
    }
   ],
   "source": [
    "# En la fase de prueba, no necesitamos calcular gradientes (para la eficiencia de la memoria)\n",
    "with torch.no_grad():\n",
    "    n_correct = 0\n",
    "    n_samples = 0\n",
    "    for images, labels in test_loader:\n",
    "        images = images.reshape(-1, 28*28).to(device)\n",
    "        labels = labels.to(device)\n",
    "        outputs = model(images)\n",
    "        # rendimientos máximos (valor, índice)\n",
    "        _, predicted = torch.max(outputs.data, 1)\n",
    "        n_samples += labels.size(0)\n",
    "        n_correct += (predicted == labels).sum().item()\n",
    "\n",
    "    acc = 100.0 * n_correct / n_samples\n",
    "    print(f'Accuracy of the network on the 10000 test images: {acc} %')"
   ]
  }
 ],
 "metadata": {
  "kernelspec": {
   "display_name": "Python 3 (ipykernel)",
   "language": "python",
   "name": "python3"
  },
  "language_info": {
   "codemirror_mode": {
    "name": "ipython",
    "version": 3
   },
   "file_extension": ".py",
   "mimetype": "text/x-python",
   "name": "python",
   "nbconvert_exporter": "python",
   "pygments_lexer": "ipython3",
   "version": "3.9.7"
  }
 },
 "nbformat": 4,
 "nbformat_minor": 5
}
