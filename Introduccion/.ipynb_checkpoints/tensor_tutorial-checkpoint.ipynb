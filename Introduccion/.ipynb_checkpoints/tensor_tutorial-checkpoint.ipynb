{
 "cells": [
  {
   "cell_type": "code",
   "execution_count": 1,
   "metadata": {
    "executionInfo": {
     "elapsed": 341,
     "status": "ok",
     "timestamp": 1655758160841,
     "user": {
      "displayName": "Simon Lozada",
      "userId": "15782723165928499535"
     },
     "user_tz": 180
    },
    "id": "PjK0Zl0MlUWI"
   },
   "outputs": [],
   "source": [
    "%matplotlib inline"
   ]
  },
  {
   "cell_type": "markdown",
   "metadata": {
    "id": "3Jb5dot7lUWM"
   },
   "source": [
    "Tensores\n",
    "--------------------------------------------\n",
    "\n",
    "Los tensores son una estructura de datos especializada que son muy similares a las matrices.\n",
    "y matrices. En PyTorch, usamos tensores para codificar las entradas y\n",
    "salidas de un modelo, así como los parámetros del modelo.\n",
    "\n",
    "Los tensores son similares a los ndarrays de NumPy, excepto que los tensores pueden funcionar en\n",
    "GPU u otro hardware especializado para acelerar la informática. Si está familiarizado con los ndarrays,\n",
    "estar como en casa con la API de Tensor. Si no es así, siga en este rápido\n",
    "Tutorial de API.\n",
    "\n"
   ]
  },
  {
   "cell_type": "code",
   "execution_count": 2,
   "metadata": {
    "executionInfo": {
     "elapsed": 20,
     "status": "ok",
     "timestamp": 1655758161104,
     "user": {
      "displayName": "Simon Lozada",
      "userId": "15782723165928499535"
     },
     "user_tz": 180
    },
    "id": "W825To3olUWR"
   },
   "outputs": [],
   "source": [
    "import torch\n",
    "import numpy as np"
   ]
  },
  {
   "cell_type": "markdown",
   "metadata": {
    "id": "2BPXNWeAlUWS"
   },
   "source": [
    "Inicialización del tensor\n",
    "~~~~~~~~~~~~~~~~~~~~\n",
    "\n",
    "Los tensores se pueden inicializar de varias formas. Eche un vistazo a los siguientes ejemplos:\n",
    "\n",
    "** Directamente a partir de datos **\n",
    "\n",
    "Los tensores se pueden crear directamente a partir de los datos. El tipo de datos se infiere automáticamente.\n"
   ]
  },
  {
   "cell_type": "code",
   "execution_count": 3,
   "metadata": {
    "executionInfo": {
     "elapsed": 17,
     "status": "ok",
     "timestamp": 1655758161104,
     "user": {
      "displayName": "Simon Lozada",
      "userId": "15782723165928499535"
     },
     "user_tz": 180
    },
    "id": "vjOXpWbGlUWT"
   },
   "outputs": [],
   "source": [
    "data = [[1, 2], [3, 4]]\n",
    "x_data = torch.tensor(data)"
   ]
  },
  {
   "cell_type": "markdown",
   "metadata": {
    "id": "e0d8LhKTlUWU"
   },
   "source": [
    "** De una matriz NumPy **\n",
    "\n",
    "Los tensores se pueden crear a partir de matrices NumPy (y viceversa, consulte `bridge-to-np-label`).\n",
    "\n"
   ]
  },
  {
   "cell_type": "code",
   "execution_count": 4,
   "metadata": {
    "executionInfo": {
     "elapsed": 17,
     "status": "ok",
     "timestamp": 1655758161106,
     "user": {
      "displayName": "Simon Lozada",
      "userId": "15782723165928499535"
     },
     "user_tz": 180
    },
    "id": "9c-PzK_9lUWV"
   },
   "outputs": [],
   "source": [
    "np_array = np.array(data)\n",
    "x_np = torch.from_numpy(np_array)"
   ]
  },
  {
   "cell_type": "markdown",
   "metadata": {
    "id": "xr2GFhiUlUWW"
   },
   "source": [
    "** De otro tensor: **\n",
    "\n",
    "El nuevo tensor conserva las propiedades (forma, tipo de datos) del tensor del argumento, a menos que se anule explícitamente.\n"
   ]
  },
  {
   "cell_type": "code",
   "execution_count": 5,
   "metadata": {
    "colab": {
     "base_uri": "https://localhost:8080/"
    },
    "executionInfo": {
     "elapsed": 17,
     "status": "ok",
     "timestamp": 1655758161106,
     "user": {
      "displayName": "Simon Lozada",
      "userId": "15782723165928499535"
     },
     "user_tz": 180
    },
    "id": "-Zd2fgWolUWW",
    "outputId": "52021482-4f70-4181-c982-3df89955b66e"
   },
   "outputs": [
    {
     "name": "stdout",
     "output_type": "stream",
     "text": [
      "Ones Tensor: \n",
      " tensor([[1, 1],\n",
      "        [1, 1]]) \n",
      "\n",
      "Random Tensor: \n",
      " tensor([[0.8327, 0.8091],\n",
      "        [0.0389, 0.0485]]) \n",
      "\n"
     ]
    }
   ],
   "source": [
    "x_ones = torch.ones_like(x_data) #conserva las propiedades de x_data\n",
    "print(f\"Ones Tensor: \\n {x_ones} \\n\")\n",
    "\n",
    "x_rand = torch.rand_like(x_data, dtype=torch.float) #anula el tipo de datos de x_data\n",
    "print(f\"Random Tensor: \\n {x_rand} \\n\")"
   ]
  },
  {
   "cell_type": "markdown",
   "metadata": {
    "id": "FeJ7SWSnlUWX"
   },
   "source": [
    "** Con valores aleatorios o constantes: **\n",
    "\n",
    "``shape'' es una tupla de dimensiones de tensor. En las funciones siguientes, determina la dimensionalidad del tensor de salida.\n",
    "\n"
   ]
  },
  {
   "cell_type": "code",
   "execution_count": 6,
   "metadata": {
    "colab": {
     "base_uri": "https://localhost:8080/"
    },
    "executionInfo": {
     "elapsed": 314,
     "status": "ok",
     "timestamp": 1655758161409,
     "user": {
      "displayName": "Simon Lozada",
      "userId": "15782723165928499535"
     },
     "user_tz": 180
    },
    "id": "rQRy9sS5lUWX",
    "outputId": "36a49056-5087-409e-fb25-e1361b371a41"
   },
   "outputs": [
    {
     "name": "stdout",
     "output_type": "stream",
     "text": [
      "Random Tensor: \n",
      " tensor([[0.1647, 0.1395, 0.9213],\n",
      "        [0.5661, 0.0030, 0.4930]]) \n",
      "\n",
      "Ones Tensor: \n",
      " tensor([[1., 1., 1.],\n",
      "        [1., 1., 1.]]) \n",
      "\n",
      "Zeros Tensor: \n",
      " tensor([[0., 0., 0.],\n",
      "        [0., 0., 0.]])\n",
      "Empty Tensor: \n",
      " tensor([[4.6068e-36, 0.0000e+00, 4.6040e-36],\n",
      "        [0.0000e+00, 1.1210e-43, 0.0000e+00]])\n",
      "Tensor Tensor: \n",
      " tensor([2, 3])\n"
     ]
    }
   ],
   "source": [
    "shape = (2, 3,)\n",
    "rand_tensor = torch.rand(shape)      #Tensor aleatorio\n",
    "ones_tensor = torch.ones(shape)      #Tensor Con todos sus valores en 1\n",
    "zeros_tensor = torch.zeros(shape)    #Tensor Con todos sus valores en 0\n",
    "empty_tensor = torch.empty(shape)    #Tensor Con todos sus valores sin iniciar\n",
    "Tensor_tensor = torch.tensor(shape)  #Tensor Con valores especificos\n",
    "\n",
    "print(f\"Random Tensor: \\n {rand_tensor} \\n\")\n",
    "print(f\"Ones Tensor: \\n {ones_tensor} \\n\")\n",
    "print(f\"Zeros Tensor: \\n {zeros_tensor}\")\n",
    "print(f\"Empty Tensor: \\n {empty_tensor}\")\n",
    "print(f\"Tensor Tensor: \\n {Tensor_tensor}\")\n"
   ]
  },
  {
   "cell_type": "markdown",
   "metadata": {
    "id": "cmgs_UFJlUWY"
   },
   "source": [
    "--------------\n",
    "\n",
    "\n"
   ]
  },
  {
   "cell_type": "markdown",
   "metadata": {
    "id": "peI5lw5ElUWY"
   },
   "source": [
    "Atributos del tensor\n",
    "~~~~~~~~~~~~~~~~~\n",
    "\n",
    "Los atributos del tensor describen su forma, tipo de datos y el dispositivo en el que se almacenan.\n"
   ]
  },
  {
   "cell_type": "code",
   "execution_count": 7,
   "metadata": {
    "colab": {
     "base_uri": "https://localhost:8080/"
    },
    "executionInfo": {
     "elapsed": 11,
     "status": "ok",
     "timestamp": 1655758161411,
     "user": {
      "displayName": "Simon Lozada",
      "userId": "15782723165928499535"
     },
     "user_tz": 180
    },
    "id": "Du1lYjrPlUWZ",
    "outputId": "b3df7d7a-58f3-4eda-968e-327c87e6a189"
   },
   "outputs": [
    {
     "name": "stdout",
     "output_type": "stream",
     "text": [
      "Forma del tensor: torch.Size([3, 4])\n",
      "Datatype of tensor: torch.float32\n",
      "Device tensor is stored on: cpu\n"
     ]
    }
   ],
   "source": [
    "tensor = torch.rand(3, 4)\n",
    "\n",
    "print(f\"Forma del tensor: {tensor.shape}\")\n",
    "#Tambien podes hacer:\n",
    "# La diferencia es:\".shapees un alias para .size(), y se agregó para que coincida más estrechamente numpy, vea esta discusión aquí\" \n",
    "#print(f\"Forma del tensor: {tensor.size()}\")\n",
    "\n",
    "print(f\"Datatype of tensor: {tensor.dtype}\")\n",
    "print(f\"Device tensor is stored on: {tensor.device}\")"
   ]
  },
  {
   "cell_type": "markdown",
   "metadata": {
    "id": "rvFnZIBQlUWZ"
   },
   "source": [
    "--------------\n",
    "\n",
    "\n"
   ]
  },
  {
   "cell_type": "markdown",
   "metadata": {
    "id": "Jcb_PfpQlUWZ"
   },
   "source": [
    "Operaciones de tensor\n",
    "~~~~~~~~~~~~~~~~~\n",
    "\n",
    "Más de 100 operaciones de tensor, que incluyen transposición, indexación, corte,\n",
    "operaciones matemáticas, álgebra lineal, muestreo aleatorio y más son\n",
    "descrito exhaustivamente\n",
    "`aquí <https://pytorch.org/docs/stable/torch.html>` __.\n",
    "\n",
    "Cada uno de ellos se puede ejecutar en la GPU (a velocidades típicamente más altas que en un\n",
    "UPC). Si está utilizando Colab, asigne una GPU yendo a Editar> Cuaderno\n",
    "Ajustes.\n",
    "\n",
    "\n"
   ]
  },
  {
   "cell_type": "code",
   "execution_count": 8,
   "metadata": {
    "colab": {
     "base_uri": "https://localhost:8080/"
    },
    "executionInfo": {
     "elapsed": 11895,
     "status": "ok",
     "timestamp": 1655758173299,
     "user": {
      "displayName": "Simon Lozada",
      "userId": "15782723165928499535"
     },
     "user_tz": 180
    },
    "id": "VutcE7J9lUWa",
    "outputId": "d9d96e02-2da2-4929-e4e3-7cd58dda9eb2"
   },
   "outputs": [],
   "source": [
    "# Movemos nuestro tensor a la GPU si está disponible\n",
    "if torch.cuda.is_available():\n",
    "  tensor = tensor.to('cuda')\n",
    "  print(f\"Device tensor is stored on: {tensor.device}\")"
   ]
  },
  {
   "cell_type": "markdown",
   "metadata": {
    "id": "cxFfXrF_lUWa"
   },
   "source": [
    "# Pruebe algunas de las operaciones de la lista.\n",
    "Si está familiarizado con la API de NumPy, encontrará que la API de Tensor es muy fácil de usar.\n",
    "\n",
    "\n"
   ]
  },
  {
   "cell_type": "markdown",
   "metadata": {
    "id": "uYJi3HTRlUWa"
   },
   "source": [
    "**Indexación y segmentación estándar tipo numpy:**\n"
   ]
  },
  {
   "cell_type": "code",
   "execution_count": 32,
   "metadata": {
    "colab": {
     "base_uri": "https://localhost:8080/"
    },
    "executionInfo": {
     "elapsed": 59,
     "status": "ok",
     "timestamp": 1655758173301,
     "user": {
      "displayName": "Simon Lozada",
      "userId": "15782723165928499535"
     },
     "user_tz": 180
    },
    "id": "L7VWbLEHlUWb",
    "outputId": "cfc131d8-592c-431d-ca5e-53d5b29c408c"
   },
   "outputs": [
    {
     "name": "stdout",
     "output_type": "stream",
     "text": [
      "tensor([[1., 0., 1., 1.],\n",
      "        [1., 0., 1., 1.],\n",
      "        [1., 0., 1., 1.],\n",
      "        [1., 0., 1., 1.]])\n",
      "tensor([[1., 0., 1., 1.],\n",
      "        [0., 0., 0., 0.],\n",
      "        [1., 0., 1., 1.],\n",
      "        [1., 0., 1., 1.]])\n"
     ]
    },
    {
     "data": {
      "text/plain": [
       "tensor([1., 0., 1., 1., 0., 0., 0., 0., 1., 0., 1., 1., 1., 0., 1., 1.])"
      ]
     },
     "execution_count": 32,
     "metadata": {},
     "output_type": "execute_result"
    }
   ],
   "source": [
    "tensor = torch.ones(4, 4)\n",
    "\n",
    "#tensor[COLUPNAS, FILAS] \n",
    "#Aqui lo que decimos es remplaza todos elementos(usado el \":\") de la columna 1(dos enrealida por que el 0 se cuenta)\n",
    "tensor[:,1] = 0\n",
    "print(tensor)\n",
    "\n",
    "#O lo opuesto\n",
    "tensor[1,:] = 0\n",
    "print(tensor)\n",
    "\n",
    "#Podemos mmotrar un nuemro de termindo de lementos del tensor/matriz con .view\n",
    "tensor.view(16)\n"
   ]
  },
  {
   "cell_type": "markdown",
   "metadata": {
    "id": "JHOrh1d7lUWb"
   },
   "source": [
    "** Unión de tensores ** Puede usar `` torch.cat '' para concatenar una secuencia de tensores a lo largo de una dimensión determinada.\n",
    "Consulte también `torch.stack <https://pytorch.org/docs/stable/generated/torch.stack.html>` __,\n",
    "otro tensor que une op que es sutilmente diferente de ``torch.cat''.\n"
   ]
  },
  {
   "cell_type": "code",
   "execution_count": 24,
   "metadata": {
    "colab": {
     "base_uri": "https://localhost:8080/"
    },
    "executionInfo": {
     "elapsed": 53,
     "status": "ok",
     "timestamp": 1655758173302,
     "user": {
      "displayName": "Simon Lozada",
      "userId": "15782723165928499535"
     },
     "user_tz": 180
    },
    "id": "4fpFjKQ3lUWb",
    "outputId": "8f2e4045-9893-45c1-f753-367afbb8359b",
    "scrolled": true
   },
   "outputs": [
    {
     "name": "stdout",
     "output_type": "stream",
     "text": [
      "tensor([[1., 0., 1., 1., 1., 0., 1., 1., 1., 0., 1., 1.],\n",
      "        [0., 0., 0., 0., 0., 0., 0., 0., 0., 0., 0., 0.],\n",
      "        [1., 0., 1., 1., 1., 0., 1., 1., 1., 0., 1., 1.],\n",
      "        [1., 0., 1., 1., 1., 0., 1., 1., 1., 0., 1., 1.]])\n"
     ]
    }
   ],
   "source": [
    "t1 = torch.cat([tensor, tensor, tensor], dim=1)\n",
    "print(t1)"
   ]
  },
  {
   "cell_type": "markdown",
   "metadata": {},
   "source": [
    "**Sumar tensores**\n"
   ]
  },
  {
   "cell_type": "code",
   "execution_count": 25,
   "metadata": {
    "scrolled": true
   },
   "outputs": [
    {
     "name": "stdout",
     "output_type": "stream",
     "text": [
      "tensor x: \n",
      " {tensor([[1., 1.],\n",
      "        [1., 1.]])}\n",
      "tensor y: \n",
      " {tensor([[1., 1.],\n",
      "        [1., 1.]])} \n",
      "\n",
      "nuevo tensor y: \n",
      " {tensor([[1., 1.],\n",
      "        [1., 1.]])}\n"
     ]
    }
   ],
   "source": [
    "x = torch.ones(2,2)\n",
    "print(\"tensor x: \\n\",{x})\n",
    "y = torch.ones(2,2)\n",
    "print(\"tensor y: \\n\",{y}, \"\\n\")\n",
    "\n",
    "#y.add_(x)\n",
    "# O tambien: \"y + x\" / y = torch.add(y,x)\n",
    "print(\"nuevo tensor y: \\n\",{y})\n"
   ]
  },
  {
   "cell_type": "markdown",
   "metadata": {},
   "source": [
    "**Restar tensores**\n"
   ]
  },
  {
   "cell_type": "code",
   "execution_count": 26,
   "metadata": {},
   "outputs": [
    {
     "name": "stdout",
     "output_type": "stream",
     "text": [
      "tensor x: \n",
      " {tensor([[1., 1.],\n",
      "        [1., 1.]])}\n",
      "tensor y: \n",
      " {tensor([[1., 1.],\n",
      "        [1., 1.]])} \n",
      "\n",
      "nuevo tensor y: \n",
      " {tensor([[0., 0.],\n",
      "        [0., 0.]])}\n"
     ]
    }
   ],
   "source": [
    "x = torch.ones(2,2)\n",
    "print(\"tensor x: \\n\",{x})\n",
    "y = torch.ones(2,2)\n",
    "print(\"tensor y: \\n\",{y}, \"\\n\")\n",
    "\n",
    "y.sub_(x)\n",
    "# O tambien: \"y - x\" / y = torch.sub(y,x)\n",
    "print(\"nuevo tensor y: \\n\",{y})"
   ]
  },
  {
   "cell_type": "markdown",
   "metadata": {
    "id": "_tsT9ZJ6lUWc"
   },
   "source": [
    "**Multiplicar tensores**\n"
   ]
  },
  {
   "cell_type": "code",
   "execution_count": 27,
   "metadata": {
    "colab": {
     "base_uri": "https://localhost:8080/"
    },
    "executionInfo": {
     "elapsed": 46,
     "status": "ok",
     "timestamp": 1655758173304,
     "user": {
      "displayName": "Simon Lozada",
      "userId": "15782723165928499535"
     },
     "user_tz": 180
    },
    "id": "MS43Tqg8lUWc",
    "outputId": "154b491e-4f5d-49bb-8c31-685fbf7dfe8b",
    "scrolled": true
   },
   "outputs": [
    {
     "name": "stdout",
     "output_type": "stream",
     "text": [
      "Tensor original (1) \n",
      " {tensor([[1., 0., 1., 1.],\n",
      "        [1., 0., 1., 1.],\n",
      "        [1., 0., 1., 1.],\n",
      "        [1., 0., 1., 1.]])}\n",
      "Tensor original (2) \n",
      " {tensor([[1., 0., 0., 0.],\n",
      "        [1., 0., 0., 0.],\n",
      "        [1., 0., 0., 0.],\n",
      "        [1., 0., 0., 0.]])} \n",
      "\n",
      "tensor.mul(tensor) \n",
      " tensor([[1., 0., 0., 0.],\n",
      "        [1., 0., 0., 0.],\n",
      "        [1., 0., 0., 0.],\n",
      "        [1., 0., 0., 0.]]) \n",
      "\n",
      "tensor * tensor \n",
      " tensor([[1., 0., 0., 0.],\n",
      "        [1., 0., 0., 0.],\n",
      "        [1., 0., 0., 0.],\n",
      "        [1., 0., 0., 0.]])\n"
     ]
    }
   ],
   "source": [
    "tensor = torch.ones(4, 4)\n",
    "tensor[:,1] = 0\n",
    "\n",
    "tensor2 = torch.zeros(4, 4)\n",
    "tensor2[:,0] = 1\n",
    "print(\"Tensor original (1) \\n\",{tensor})\n",
    "print(\"Tensor original (2) \\n\",{tensor2},\"\\n\")\n",
    "\n",
    "\n",
    "# Esto calcula el producto por elementos\n",
    "print(f\"tensor.mul(tensor) \\n {tensor.mul(tensor2)} \\n\")\n",
    "# Sintaxis alternativa:\n",
    "print(f\"tensor * tensor \\n {tensor * tensor2}\")"
   ]
  },
  {
   "cell_type": "markdown",
   "metadata": {
    "id": "h57fGXN-lUWc"
   },
   "source": [
    "Esto calcula la multiplicación de matrices entre dos tensores.\n"
   ]
  },
  {
   "cell_type": "markdown",
   "metadata": {},
   "source": [
    "<div class=\"alert alert-info\"><h4>Nota</h4><p>Por demanda popular, la función antorcha.  matmul realiza multiplicaciones de matrices si ambos argumentos son 2D y calcula su producto escalar si ambos argumentos son 1D.  Para entradas de tales dimensiones, su comportamiento es el mismo que np..</p></div>\n"
   ]
  },
  {
   "cell_type": "code",
   "execution_count": 28,
   "metadata": {
    "colab": {
     "base_uri": "https://localhost:8080/"
    },
    "executionInfo": {
     "elapsed": 43,
     "status": "ok",
     "timestamp": 1655758173305,
     "user": {
      "displayName": "Simon Lozada",
      "userId": "15782723165928499535"
     },
     "user_tz": 180
    },
    "id": "B-95IK19lUWc",
    "outputId": "8c8d07e7-2292-41ed-fca9-74a554df6087"
   },
   "outputs": [
    {
     "name": "stdout",
     "output_type": "stream",
     "text": [
      "tensor.matmul(tensor.T) \n",
      " tensor([[3., 3., 3., 3.],\n",
      "        [3., 3., 3., 3.],\n",
      "        [3., 3., 3., 3.],\n",
      "        [3., 3., 3., 3.]]) \n",
      "\n",
      "tensor @ tensor.T \n",
      " tensor([[3., 3., 3., 3.],\n",
      "        [3., 3., 3., 3.],\n",
      "        [3., 3., 3., 3.],\n",
      "        [3., 3., 3., 3.]])\n"
     ]
    }
   ],
   "source": [
    "#devuelve el producto matricial de dos matrices.\n",
    "print(f\"tensor.matmul(tensor.T) \\n {tensor.matmul(tensor.T)} \\n\")\n",
    "# Sintaxis alternativa:\n",
    "print(f\"tensor @ tensor.T \\n {tensor @ tensor.T}\")\n"
   ]
  },
  {
   "cell_type": "markdown",
   "metadata": {},
   "source": [
    "**Dividir tensores**\n"
   ]
  },
  {
   "cell_type": "code",
   "execution_count": 29,
   "metadata": {},
   "outputs": [
    {
     "name": "stdout",
     "output_type": "stream",
     "text": [
      "tensor1\n",
      " tensor([4, 4])\n",
      "tensor2\n",
      " tensor([2, 2])\n",
      "Nuevo tensor: {tensor([2., 2.])}\n"
     ]
    }
   ],
   "source": [
    "\n",
    "tensor1=torch.tensor([4,4])\n",
    "print(f\"tensor1\\n {tensor1}\")\n",
    "\n",
    "tensor2=torch.tensor([2,2])\n",
    "print(f\"tensor2\\n {tensor2}\")\n",
    "\n",
    "y = torch.div(tensor1,tensor2)\n",
    "# O tambien: \"y / x\"\n",
    "print(\"Nuevo tensor:\", {y})"
   ]
  },
  {
   "cell_type": "code",
   "execution_count": null,
   "metadata": {},
   "outputs": [],
   "source": []
  },
  {
   "cell_type": "code",
   "execution_count": null,
   "metadata": {},
   "outputs": [],
   "source": []
  },
  {
   "cell_type": "markdown",
   "metadata": {
    "id": "kcqOalWzlUWd"
   },
   "source": [
    "**In-place operations**\n",
    "Operaciones que tienen un ``_`` sufijo están en su lugar. Por ejemplo: ``x.copy_(y)``, ``x.t_()``,cambiará``x``.\n"
   ]
  },
  {
   "cell_type": "code",
   "execution_count": 41,
   "metadata": {
    "colab": {
     "base_uri": "https://localhost:8080/"
    },
    "executionInfo": {
     "elapsed": 37,
     "status": "ok",
     "timestamp": 1655758173305,
     "user": {
      "displayName": "Simon Lozada",
      "userId": "15782723165928499535"
     },
     "user_tz": 180
    },
    "id": "ei6NYTcqlUWd",
    "outputId": "d36e8bd3-7cee-4136-d1b1-e0b28095c522"
   },
   "outputs": [
    {
     "name": "stdout",
     "output_type": "stream",
     "text": [
      "tensor([[1., 0., 1., 1.],\n",
      "        [1., 0., 1., 1.],\n",
      "        [1., 0., 1., 1.],\n",
      "        [1., 0., 1., 1.]]) \n",
      "\n",
      "tensor([[6., 5., 6., 6.],\n",
      "        [6., 5., 6., 6.],\n",
      "        [6., 5., 6., 6.],\n",
      "        [6., 5., 6., 6.]])\n"
     ]
    }
   ],
   "source": [
    "print(tensor, \"\\n\")\n",
    "tensor.add_(5)\n",
    "print(tensor)"
   ]
  },
  {
   "cell_type": "markdown",
   "metadata": {
    "id": "ZFs3-xCZlUWd"
   },
   "source": [
    "<div class=\"alert alert-info\"><h4>Nota</h4><p>\"In-place operations\"\n",
    "ahorran algo de memoria, pero pueden ser problemáticas al calcular derivadas debido a una pérdida inmediata\n",
    "      de historia. Por tanto, se desaconseja su uso.</p></div>\n",
    "\n"
   ]
  },
  {
   "cell_type": "markdown",
   "metadata": {
    "id": "byrPwMvIlUWd"
   },
   "source": [
    "--------------\n",
    "\n",
    "\n"
   ]
  },
  {
   "cell_type": "markdown",
   "metadata": {
    "id": "-MIdJ_TplUWd"
   },
   "source": [
    "\n",
    "Puente con NumPy\n",
    "~~~~~~~~~~~~~~~~~\n",
    "Los tensores en la CPU y los arreglos NumPy pueden compartir su memoria subyacente\n",
    "ubicaciones, y cambiar una cambiará la otra.\n",
    "\n"
   ]
  },
  {
   "cell_type": "markdown",
   "metadata": {
    "id": "XGCHQUO0lUWe"
   },
   "source": [
    "Tensor a matriz NumPy\n",
    "\n",
    "^^^^^^^^^^^^^^^^^^^^^^^^^^^^^^^^^^^^^^\n",
    "\n"
   ]
  },
  {
   "cell_type": "code",
   "execution_count": 20,
   "metadata": {
    "colab": {
     "base_uri": "https://localhost:8080/"
    },
    "executionInfo": {
     "elapsed": 35,
     "status": "ok",
     "timestamp": 1655758173307,
     "user": {
      "displayName": "Simon Lozada",
      "userId": "15782723165928499535"
     },
     "user_tz": 180
    },
    "id": "Jrh-4vVFlUWe",
    "outputId": "d701704d-3539-46ba-e6de-3e6328a3cbad"
   },
   "outputs": [
    {
     "name": "stdout",
     "output_type": "stream",
     "text": [
      "t: tensor([1., 1., 1., 1., 1.])\n",
      "n: [1. 1. 1. 1. 1.]\n"
     ]
    }
   ],
   "source": [
    "t = torch.ones(5)\n",
    "print(f\"t: {t}\")\n",
    "n = t.numpy()\n",
    "print(f\"n: {n}\")"
   ]
  },
  {
   "cell_type": "markdown",
   "metadata": {
    "id": "42S1qoqylUWe"
   },
   "source": [
    "Un cambio en el tensor se refleja en la matriz NumPy.\n"
   ]
  },
  {
   "cell_type": "code",
   "execution_count": 21,
   "metadata": {
    "colab": {
     "base_uri": "https://localhost:8080/"
    },
    "executionInfo": {
     "elapsed": 31,
     "status": "ok",
     "timestamp": 1655758173308,
     "user": {
      "displayName": "Simon Lozada",
      "userId": "15782723165928499535"
     },
     "user_tz": 180
    },
    "id": "U4mPmKJglUWe",
    "outputId": "10346d69-d319-45c3-e840-c3d49214e325"
   },
   "outputs": [
    {
     "name": "stdout",
     "output_type": "stream",
     "text": [
      "t: tensor([2., 2., 2., 2., 2.])\n",
      "n: [2. 2. 2. 2. 2.]\n"
     ]
    }
   ],
   "source": [
    "t.add_(1)\n",
    "print(f\"t: {t}\")\n",
    "print(f\"n: {n}\")"
   ]
  },
  {
   "cell_type": "markdown",
   "metadata": {
    "id": "Vqoo5z51lUWe"
   },
   "source": [
    "Matriz NumPy a Tensor\n",
    "\n",
    "^^^^^^^^^^^^^^^^^^^^^^^^^^^^^^^^^^^^^^\n",
    "\n"
   ]
  },
  {
   "cell_type": "code",
   "execution_count": 22,
   "metadata": {
    "executionInfo": {
     "elapsed": 28,
     "status": "ok",
     "timestamp": 1655758173309,
     "user": {
      "displayName": "Simon Lozada",
      "userId": "15782723165928499535"
     },
     "user_tz": 180
    },
    "id": "KXOGuoOIlUWf"
   },
   "outputs": [],
   "source": [
    "n = np.ones(5)\n",
    "t = torch.from_numpy(n)"
   ]
  },
  {
   "cell_type": "markdown",
   "metadata": {
    "id": "2MX8UkmvlUWf"
   },
   "source": [
    "[texto del vínculo](https://)Los cambios en la matriz NumPy se reflejan en el tensor.\n",
    "\n"
   ]
  },
  {
   "cell_type": "code",
   "execution_count": 23,
   "metadata": {
    "colab": {
     "base_uri": "https://localhost:8080/"
    },
    "executionInfo": {
     "elapsed": 28,
     "status": "ok",
     "timestamp": 1655758173310,
     "user": {
      "displayName": "Simon Lozada",
      "userId": "15782723165928499535"
     },
     "user_tz": 180
    },
    "id": "_Yr4uglBlUWf",
    "outputId": "55312b49-52e7-4252-ca6d-f32999abff05"
   },
   "outputs": [
    {
     "name": "stdout",
     "output_type": "stream",
     "text": [
      "t: tensor([2., 2., 2., 2., 2.], dtype=torch.float64)\n",
      "n: [2. 2. 2. 2. 2.]\n"
     ]
    }
   ],
   "source": [
    "np.add(n, 1, out=n)\n",
    "print(f\"t: {t}\")\n",
    "print(f\"n: {n}\")"
   ]
  },
  {
   "cell_type": "markdown",
   "metadata": {},
   "source": [
    "Gracias A:\n",
    "----------------\n",
    "Documentacion oficial de pytorch: https://pytorch.org/tutorials/beginner/basics/tensorqs_tutorial.html\n",
    "\n",
    "Traducido por: Mi :)"
   ]
  }
 ],
 "metadata": {
  "accelerator": "GPU",
  "colab": {
   "collapsed_sections": [],
   "name": "Copia de tensor_tutorial.ipynb",
   "provenance": [
    {
     "file_id": "https://github.com/pytorch/tutorials/blob/gh-pages/_downloads/3c2b25b8a9f72db7780a6bf9b5fc9f62/tensor_tutorial.ipynb",
     "timestamp": 1640905412995
    }
   ]
  },
  "kernelspec": {
   "display_name": "Python 3 (ipykernel)",
   "language": "python",
   "name": "python3"
  },
  "language_info": {
   "codemirror_mode": {
    "name": "ipython",
    "version": 3
   },
   "file_extension": ".py",
   "mimetype": "text/x-python",
   "name": "python",
   "nbconvert_exporter": "python",
   "pygments_lexer": "ipython3",
   "version": "3.9.7"
  }
 },
 "nbformat": 4,
 "nbformat_minor": 1
}
