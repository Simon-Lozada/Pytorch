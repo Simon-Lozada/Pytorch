{
 "cells": [
  {
   "cell_type": "markdown",
   "id": "6c3971b8",
   "metadata": {},
   "source": [
    "# Tareas\n",
    "\n",
    "**1) Diseñar nuestro modelo:** (input, output, size, forward pass)\n",
    "\n",
    "**2) Construir \"loss\"(perdida) y \"optimizer\"(optimizador)**\n",
    "\n",
    "**3) Bucle de entrenamiento:**\n",
    " - Forward pass: computar predicción\n",
    " - backward pass: gradientes\n",
    " - Actulizar los pesos "
   ]
  },
  {
   "cell_type": "code",
   "execution_count": 3,
   "id": "031681f0",
   "metadata": {},
   "outputs": [],
   "source": [
    "import torch\n",
    "import torch.nn as nn\n",
    "\n",
    "from sklearn import datasets\n",
    "\n",
    "import numpy as np\n",
    "import matplotlib.pyplot as plt"
   ]
  },
  {
   "cell_type": "markdown",
   "id": "e9c47ddd",
   "metadata": {},
   "source": [
    "# Regresion lineal simple"
   ]
  },
  {
   "cell_type": "markdown",
   "id": "fbc92342",
   "metadata": {},
   "source": [
    "## Datos"
   ]
  },
  {
   "cell_type": "code",
   "execution_count": 2,
   "id": "0401fb91",
   "metadata": {},
   "outputs": [],
   "source": [
    "# Cargamos los datos de \"datasets\"\n",
    "# X_numpy = Datos , y_numpy = Objetivo\n",
    "X_numpy_simple, y_numpy_simple = datasets.make_regression(n_samples=100, n_features=1, n_targets=1, noise=25, random_state=1)\n",
    "\n",
    "# Comvertimos los datos a tensores\n",
    "X_simple = torch.from_numpy(X_numpy_simple.astype(np.float32))\n",
    "y_simple = torch.from_numpy(y_numpy_simple.astype(np.float32))\n",
    "\n",
    "# Cambiamos la forma de tensor \"y\" hacemos que el numero de valores sea 0(0==1) y que tenga una columna\n",
    "y_simple = y_simple.view(y_simple.shape[0],1)\n",
    "\n",
    "# Guardamos el numero de ejmplos y objentivos\n",
    "#n_samples, n_features = X.shape"
   ]
  },
  {
   "cell_type": "markdown",
   "id": "b5656271",
   "metadata": {},
   "source": [
    "## Modelo"
   ]
  },
  {
   "cell_type": "code",
   "execution_count": 3,
   "id": "28265258",
   "metadata": {},
   "outputs": [],
   "source": [
    "# Establecemos el numero de entradas de nuestro modelo\n",
    "n_features = 1\n",
    "# Establecemos el numero de salidas de nuestro modelo\n",
    "output_size = 1\n",
    "\n",
    "# Guardasmos nuesto modelo en \"model\"\n",
    "model_Simple = nn.Linear(n_features, output_size)"
   ]
  },
  {
   "cell_type": "markdown",
   "id": "fda2bc90",
   "metadata": {},
   "source": [
    "## Entrenamiento"
   ]
  },
  {
   "cell_type": "code",
   "execution_count": 4,
   "id": "9337dd2b",
   "metadata": {},
   "outputs": [],
   "source": [
    "learning_rate = 0.05\n",
    "criterion = nn.MSELoss()\n",
    "optimizer = torch.optim.SGD(model_Simple.parameters(), lr=learning_rate)"
   ]
  },
  {
   "cell_type": "code",
   "execution_count": 5,
   "id": "085e2caf",
   "metadata": {},
   "outputs": [
    {
     "name": "stdout",
     "output_type": "stream",
     "text": [
      "epoch: 10, loss = 1774.0710\n",
      "epoch: 20, loss = 763.0552\n",
      "epoch: 30, loss = 567.5303\n",
      "epoch: 40, loss = 529.1401\n",
      "epoch: 50, loss = 521.5320\n",
      "epoch: 60, loss = 520.0159\n",
      "epoch: 70, loss = 519.7128\n",
      "epoch: 80, loss = 519.6521\n",
      "epoch: 90, loss = 519.6398\n",
      "epoch: 100, loss = 519.6375\n"
     ]
    }
   ],
   "source": [
    "num_epocns = 100\n",
    "\n",
    "for epoch in range(num_epocns):\n",
    "    \n",
    "    # Forward pass(pase hacia adelante)\n",
    "    y_predicted = model_Simple(X_simple)\n",
    "    \n",
    "    # Loss(Perdida)\n",
    "    loss = criterion(y_predicted, y_simple)\n",
    "    \n",
    "    # Backward pass(pase hacia atras)\n",
    "    loss.backward()\n",
    "    \n",
    "    # Actulizacion\n",
    "    optimizer.step()\n",
    "    \n",
    "    # Vover a 0 los gradientes\n",
    "    optimizer.zero_grad()\n",
    "    \n",
    "    # Resultados\n",
    "    if (epoch+1) % 10 == 0:\n",
    "        print(f\"epoch: {epoch+1}, loss = {loss.item():.4f}\")"
   ]
  },
  {
   "cell_type": "markdown",
   "id": "8210d024",
   "metadata": {},
   "source": [
    "# Regresion lineal múltiple"
   ]
  },
  {
   "cell_type": "markdown",
   "id": "f3ab8ce7",
   "metadata": {},
   "source": [
    "## Datos"
   ]
  },
  {
   "cell_type": "code",
   "execution_count": 12,
   "id": "4951506b",
   "metadata": {},
   "outputs": [],
   "source": [
    "# Cargamos los datos de \"datasets\"\n",
    "# X_numpy = Datos , y_numpy = Objetivo\n",
    "X_numpy_multi, y_numpy_multi = datasets.make_regression(n_samples=100, n_features=2, n_targets=1, noise=25, random_state=1)\n",
    "\n",
    "# Comvertimos los datos a tensores\n",
    "X_multi = torch.from_numpy(X_numpy_multi.astype(np.float32))\n",
    "y_multi = torch.from_numpy(y_numpy_multi.astype(np.float32))\n",
    "\n",
    "# Cambiamos la forma de tensor \"y\" hacemos que el numero de valores sea 0(0==1) y que tenga una columna\n",
    "y_multi  = y_multi.view(y_multi.shape[0],1)\n",
    "\n",
    "# Guardamos el numero de ejmplos y objentivos\n",
    "#n_samples, n_features = X.shape"
   ]
  },
  {
   "cell_type": "markdown",
   "id": "5ab0ce44",
   "metadata": {},
   "source": [
    "## Modelo"
   ]
  },
  {
   "cell_type": "code",
   "execution_count": 8,
   "id": "d1d3c96f",
   "metadata": {},
   "outputs": [],
   "source": [
    "# Establecemos el numero de entradas de nuestro modelo\n",
    "n_features = 2\n",
    "# Establecemos el numero de salidas de nuestro modelo\n",
    "output_size = 1\n",
    "\n",
    "# Guardasmos nuesto modelo en \"model\"\n",
    "model_Multiple = nn.Linear(n_features, output_size)"
   ]
  },
  {
   "cell_type": "markdown",
   "id": "eff3a1ae",
   "metadata": {},
   "source": [
    "## Entrenamiento"
   ]
  },
  {
   "cell_type": "code",
   "execution_count": 9,
   "id": "71155566",
   "metadata": {},
   "outputs": [],
   "source": [
    "learning_rate = 0.01\n",
    "criterion = nn.MSELoss()\n",
    "optimizer = torch.optim.SGD(model_Multiple.parameters(), lr=learning_rate)"
   ]
  },
  {
   "cell_type": "code",
   "execution_count": 10,
   "id": "f30749b0",
   "metadata": {
    "scrolled": true
   },
   "outputs": [
    {
     "name": "stdout",
     "output_type": "stream",
     "text": [
      "epoch: 10, loss = 4643.9961\n",
      "epoch: 20, loss = 3577.1201\n",
      "epoch: 30, loss = 2813.2910\n",
      "epoch: 40, loss = 2260.4126\n",
      "epoch: 50, loss = 1856.1182\n",
      "epoch: 60, loss = 1557.7010\n",
      "epoch: 70, loss = 1335.5750\n",
      "epoch: 80, loss = 1169.0015\n",
      "epoch: 90, loss = 1043.2739\n",
      "epoch: 100, loss = 947.8438\n"
     ]
    }
   ],
   "source": [
    "num_epocns = 100\n",
    "\n",
    "for epoch in range(num_epocns):\n",
    "    \n",
    "    # Forward pass(pase hacia adelante)\n",
    "    y_predicted = model_Multiple(X_multi)\n",
    "    \n",
    "    # Loss(Perdida)\n",
    "    loss = criterion(y_predicted, y_multi)\n",
    "    \n",
    "    # Backward pass(pase hacia atras)\n",
    "    loss.backward()\n",
    "    \n",
    "    # Actulizacion\n",
    "    optimizer.step()\n",
    "    \n",
    "    # Vover a 0 los gradientes\n",
    "    optimizer.zero_grad()\n",
    "    \n",
    "    # Resultados\n",
    "    if (epoch+1) % 10 == 0:\n",
    "        print(f\"epoch: {epoch+1}, loss = {loss.item():.4f}\")"
   ]
  },
  {
   "cell_type": "markdown",
   "id": "6495d848",
   "metadata": {},
   "source": [
    "# Regresion multi variante"
   ]
  },
  {
   "cell_type": "markdown",
   "id": "473c1815",
   "metadata": {},
   "source": [
    "## Datos"
   ]
  },
  {
   "cell_type": "code",
   "execution_count": 21,
   "id": "b0f7e994",
   "metadata": {},
   "outputs": [],
   "source": [
    "# Cargamos los datos de \"datasets\"\n",
    "# X_numpy = Datos , y_numpy = Objetivo\n",
    "X_numpy_variante, y_numpy_variante = datasets.make_regression(n_samples=100, n_features=2, n_targets=2, noise=10, random_state=1)\n",
    "\n",
    "# Comvertimos los datos a tensores\n",
    "X_variante = torch.from_numpy(X_numpy_variante.astype(np.float32))\n",
    "y_variante = torch.from_numpy(y_numpy_variante.astype(np.float32))\n",
    "\n",
    "# Cambiamos la forma de tensor \"y\" hacemos que el numero de valores sea 0(0==1) y que tenga una columna\n",
    "y_variante = y_variante.view(y_variante.shape[0],2)\n",
    "\n",
    "# Guardamos el numero de ejmplos y objentivos\n",
    "#n_samples, n_features = X.shape"
   ]
  },
  {
   "cell_type": "markdown",
   "id": "b8898910",
   "metadata": {},
   "source": [
    "## Modelo"
   ]
  },
  {
   "cell_type": "code",
   "execution_count": 25,
   "id": "ae13d5f1",
   "metadata": {},
   "outputs": [],
   "source": [
    "#Establecemos el numero de entradas de nuestro modelo\n",
    "n_features = 2\n",
    "# Establecemos el numero de salidas de nuestro modelo\n",
    "output_size = 2\n",
    "\n",
    "# Guardasmos nuesto modelo en \"model\"\n",
    "model_MultiVariente = nn.Linear(n_features, output_size)"
   ]
  },
  {
   "cell_type": "markdown",
   "id": "26202466",
   "metadata": {},
   "source": [
    "## Entrenamiento"
   ]
  },
  {
   "cell_type": "code",
   "execution_count": 26,
   "id": "02c35197",
   "metadata": {},
   "outputs": [],
   "source": [
    "learning_rate = 0.1\n",
    "criterion = nn.MSELoss()\n",
    "optimizer = torch.optim.SGD(model_MultiVariente.parameters(), lr=learning_rate)"
   ]
  },
  {
   "cell_type": "code",
   "execution_count": 29,
   "id": "29bd4d9f",
   "metadata": {},
   "outputs": [
    {
     "name": "stdout",
     "output_type": "stream",
     "text": [
      "epoch: 10, loss = 1488.3113\n",
      "epoch: 20, loss = 443.4872\n",
      "epoch: 30, loss = 193.7608\n",
      "epoch: 40, loss = 129.4742\n",
      "epoch: 50, loss = 112.2168\n",
      "epoch: 60, loss = 107.4768\n",
      "epoch: 70, loss = 106.1586\n",
      "epoch: 80, loss = 105.7895\n",
      "epoch: 90, loss = 105.6858\n",
      "epoch: 100, loss = 105.6566\n"
     ]
    }
   ],
   "source": [
    "num_epocns = 100\n",
    "\n",
    "for epoch in range(num_epocns):\n",
    "    \n",
    "    # Forward pass(pase hacia adelante)\n",
    "    y_predicted = model_MultiVariente(X_variante)\n",
    "    \n",
    "    # Loss(Perdida)\n",
    "    loss = criterion(y_predicted, y_variante)\n",
    "    \n",
    "    # Backward pass(pase hacia atras)\n",
    "    loss.backward()\n",
    "    \n",
    "    # Actulizacion\n",
    "    optimizer.step()\n",
    "    \n",
    "    # Vover a 0 los gradientes\n",
    "    optimizer.zero_grad()\n",
    "    \n",
    "    # Resultados\n",
    "    if (epoch+1) % 10 == 0:\n",
    "        print(f\"epoch: {epoch+1}, loss = {loss.item():.4f}\")"
   ]
  }
 ],
 "metadata": {
  "kernelspec": {
   "display_name": "Python 3 (ipykernel)",
   "language": "python",
   "name": "python3"
  },
  "language_info": {
   "codemirror_mode": {
    "name": "ipython",
    "version": 3
   },
   "file_extension": ".py",
   "mimetype": "text/x-python",
   "name": "python",
   "nbconvert_exporter": "python",
   "pygments_lexer": "ipython3",
   "version": "3.9.7"
  }
 },
 "nbformat": 4,
 "nbformat_minor": 5
}
