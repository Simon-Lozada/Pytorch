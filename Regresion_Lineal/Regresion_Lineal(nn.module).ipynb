{
 "cells": [
  {
   "cell_type": "markdown",
   "id": "6c3971b8",
   "metadata": {},
   "source": [
    "# Tareas\n",
    "\n",
    "**1) Diseñar nuestro modelo:** (input, output, size, forward pass)\n",
    "\n",
    "**2) Construir \"loss\"(perdida) y \"optimizer\"(optimizador)**\n",
    "\n",
    "**3) Bucle de entrenamiento:**\n",
    " - Forward pass: computar predicción\n",
    " - backward pass: gradientes\n",
    " - Actulizar los pesos "
   ]
  },
  {
   "cell_type": "code",
   "execution_count": 3,
   "id": "031681f0",
   "metadata": {},
   "outputs": [],
   "source": [
    "import torch\n",
    "import torch.nn as nn\n",
    "from sklearn import linear_model\n",
    "\n",
    "from sklearn import datasets\n",
    "\n",
    "import numpy as np\n",
    "import matplotlib.pyplot as plt"
   ]
  },
  {
   "cell_type": "markdown",
   "id": "d251653c",
   "metadata": {},
   "source": [
    "# Regresion lineal simple"
   ]
  },
  {
   "cell_type": "markdown",
   "id": "573c3b45",
   "metadata": {},
   "source": [
    "## Datos"
   ]
  },
  {
   "cell_type": "code",
   "execution_count": 2,
   "id": "296ae022",
   "metadata": {},
   "outputs": [],
   "source": [
    "# Cargamos los datos de \"datasets\"\n",
    "# X_numpy = Datos , y_numpy = Objetivo\n",
    "X_numpy_simple, y_numpy_simple = datasets.make_regression(n_samples=100, n_features=1, n_targets=1, noise=25, random_state=1)\n",
    "\n",
    "# Comvertimos los datos a tensores\n",
    "X_simple = torch.from_numpy(X_numpy_simple.astype(np.float32))\n",
    "y_simple = torch.from_numpy(y_numpy_simple.astype(np.float32))\n",
    "\n",
    "# Cambiamos la forma de tensor \"y\" hacemos que el numero de valores sea 0(0==1) y que tenga una columna\n",
    "y_simple = y_simple.view(y_simple.shape[0],1)\n",
    "\n",
    "# Guardamos el numero de ejmplos y objentivos\n",
    "#n_samples, n_features = X.shape"
   ]
  },
  {
   "cell_type": "markdown",
   "id": "0f68e30e",
   "metadata": {},
   "source": [
    "## Modelo"
   ]
  },
  {
   "cell_type": "code",
   "execution_count": 3,
   "id": "e6647fc0",
   "metadata": {},
   "outputs": [],
   "source": [
    "# Establecemos el numero de entradas de nuestro modelo\n",
    "n_features = 1\n",
    "# Establecemos el numero de salidas de nuestro modelo\n",
    "output_size = 1\n",
    "\n",
    "# Guardasmos nuesto modelo en \"model\"\n",
    "model_Simple = nn.Linear(n_features, output_size)"
   ]
  },
  {
   "cell_type": "markdown",
   "id": "45c1042a",
   "metadata": {},
   "source": [
    "## Entrenamiento"
   ]
  },
  {
   "cell_type": "code",
   "execution_count": 4,
   "id": "bba481c2",
   "metadata": {},
   "outputs": [],
   "source": [
    "learning_rate = 0.05\n",
    "criterion = nn.MSELoss()\n",
    "optimizer = torch.optim.SGD(model_Simple.parameters(), lr=learning_rate)"
   ]
  },
  {
   "cell_type": "code",
   "execution_count": 5,
   "id": "0b56dd2b",
   "metadata": {},
   "outputs": [
    {
     "name": "stdout",
     "output_type": "stream",
     "text": [
      "epoch: 10, loss = 1774.0710\n",
      "epoch: 20, loss = 763.0552\n",
      "epoch: 30, loss = 567.5303\n",
      "epoch: 40, loss = 529.1401\n",
      "epoch: 50, loss = 521.5320\n",
      "epoch: 60, loss = 520.0159\n",
      "epoch: 70, loss = 519.7128\n",
      "epoch: 80, loss = 519.6521\n",
      "epoch: 90, loss = 519.6398\n",
      "epoch: 100, loss = 519.6375\n"
     ]
    }
   ],
   "source": [
    "num_epocns = 100\n",
    "\n",
    "for epoch in range(num_epocns):\n",
    "    \n",
    "    # Forward pass(pase hacia adelante)\n",
    "    y_predicted = model_Simple(X_simple)\n",
    "    \n",
    "    # Loss(Perdida)\n",
    "    loss = criterion(y_predicted, y_simple)\n",
    "    \n",
    "    # Backward pass(pase hacia atras)\n",
    "    loss.backward()\n",
    "    \n",
    "    # Actulizacion\n",
    "    optimizer.step()\n",
    "    \n",
    "    # Vover a 0 los gradientes\n",
    "    optimizer.zero_grad()\n",
    "    \n",
    "    # Resultados\n",
    "    if (epoch+1) % 10 == 0:\n",
    "        print(f\"epoch: {epoch+1}, loss = {loss.item():.4f}\")"
   ]
  },
  {
   "cell_type": "markdown",
   "id": "44e2dade",
   "metadata": {},
   "source": [
    "# Regresion lineal múltiple"
   ]
  },
  {
   "cell_type": "markdown",
   "id": "b433f002",
   "metadata": {},
   "source": [
    "## Datos"
   ]
  },
  {
   "cell_type": "code",
   "execution_count": 12,
   "id": "f65edd67",
   "metadata": {},
   "outputs": [],
   "source": [
    "# Cargamos los datos de \"datasets\"\n",
    "# X_numpy = Datos , y_numpy = Objetivo\n",
    "X_numpy_multi, y_numpy_multi = datasets.make_regression(n_samples=100, n_features=2, n_targets=1, noise=25, random_state=1)\n",
    "\n",
    "# Comvertimos los datos a tensores\n",
    "X_multi = torch.from_numpy(X_numpy_multi.astype(np.float32))\n",
    "y_multi = torch.from_numpy(y_numpy_multi.astype(np.float32))\n",
    "\n",
    "# Cambiamos la forma de tensor \"y\" hacemos que el numero de valores sea 0(0==1) y que tenga una columna\n",
    "y_multi  = y_multi.view(y_multi.shape[0],1)\n",
    "\n",
    "# Guardamos el numero de ejmplos y objentivos\n",
    "#n_samples, n_features = X.shape"
   ]
  },
  {
   "cell_type": "markdown",
   "id": "3785f4c0",
   "metadata": {},
   "source": [
    "## Modelo"
   ]
  },
  {
   "cell_type": "code",
   "execution_count": 8,
   "id": "676be959",
   "metadata": {},
   "outputs": [],
   "source": [
    "# Establecemos el numero de entradas de nuestro modelo\n",
    "n_features = 2\n",
    "# Establecemos el numero de salidas de nuestro modelo\n",
    "output_size = 1\n",
    "\n",
    "# Guardasmos nuesto modelo en \"model\"\n",
    "model_Multiple = nn.Linear(n_features, output_size)"
   ]
  },
  {
   "cell_type": "markdown",
   "id": "c76d1379",
   "metadata": {},
   "source": [
    "## Entrenamiento"
   ]
  },
  {
   "cell_type": "code",
   "execution_count": 9,
   "id": "77e92845",
   "metadata": {},
   "outputs": [],
   "source": [
    "learning_rate = 0.01\n",
    "criterion = nn.MSELoss()\n",
    "optimizer = torch.optim.SGD(model_Multiple.parameters(), lr=learning_rate)"
   ]
  },
  {
   "cell_type": "code",
   "execution_count": 10,
   "id": "6cca0f77",
   "metadata": {
    "scrolled": true
   },
   "outputs": [
    {
     "name": "stdout",
     "output_type": "stream",
     "text": [
      "epoch: 10, loss = 4643.9961\n",
      "epoch: 20, loss = 3577.1201\n",
      "epoch: 30, loss = 2813.2910\n",
      "epoch: 40, loss = 2260.4126\n",
      "epoch: 50, loss = 1856.1182\n",
      "epoch: 60, loss = 1557.7010\n",
      "epoch: 70, loss = 1335.5750\n",
      "epoch: 80, loss = 1169.0015\n",
      "epoch: 90, loss = 1043.2739\n",
      "epoch: 100, loss = 947.8438\n"
     ]
    }
   ],
   "source": [
    "num_epocns = 100\n",
    "\n",
    "for epoch in range(num_epocns):\n",
    "    \n",
    "    # Forward pass(pase hacia adelante)\n",
    "    y_predicted = model_Multiple(X_multi)\n",
    "    \n",
    "    # Loss(Perdida)\n",
    "    loss = criterion(y_predicted, y_multi)\n",
    "    \n",
    "    # Backward pass(pase hacia atras)\n",
    "    loss.backward()\n",
    "    \n",
    "    # Actulizacion\n",
    "    optimizer.step()\n",
    "    \n",
    "    # Vover a 0 los gradientes\n",
    "    optimizer.zero_grad()\n",
    "    \n",
    "    # Resultados\n",
    "    if (epoch+1) % 10 == 0:\n",
    "        print(f\"epoch: {epoch+1}, loss = {loss.item():.4f}\")"
   ]
  },
  {
   "cell_type": "markdown",
   "id": "a45178d6",
   "metadata": {},
   "source": [
    "# Regresion multi variante"
   ]
  },
  {
   "cell_type": "markdown",
   "id": "bad58405",
   "metadata": {},
   "source": [
    "## Datos"
   ]
  },
  {
   "cell_type": "code",
   "execution_count": 21,
   "id": "c4012ec8",
   "metadata": {},
   "outputs": [],
   "source": [
    "# Cargamos los datos de \"datasets\"\n",
    "# X_numpy = Datos , y_numpy = Objetivo\n",
    "X_numpy_variante, y_numpy_variante = datasets.make_regression(n_samples=100, n_features=2, n_targets=2, noise=10, random_state=1)\n",
    "\n",
    "# Comvertimos los datos a tensores\n",
    "X_variante = torch.from_numpy(X_numpy_variante.astype(np.float32))\n",
    "y_variante = torch.from_numpy(y_numpy_variante.astype(np.float32))\n",
    "\n",
    "# Cambiamos la forma de tensor \"y\" hacemos que el numero de valores sea 0(0==1) y que tenga una columna\n",
    "y_variante = y_variante.view(y_variante.shape[0],2)\n",
    "\n",
    "# Guardamos el numero de ejmplos y objentivos\n",
    "#n_samples, n_features = X.shape"
   ]
  },
  {
   "cell_type": "markdown",
   "id": "01d15cd5",
   "metadata": {},
   "source": [
    "## Modelo"
   ]
  },
  {
   "cell_type": "code",
   "execution_count": 25,
   "id": "4528177c",
   "metadata": {},
   "outputs": [],
   "source": [
    "#Establecemos el numero de entradas de nuestro modelo\n",
    "n_features = 2\n",
    "# Establecemos el numero de salidas de nuestro modelo\n",
    "output_size = 2\n",
    "\n",
    "# Guardasmos nuesto modelo en \"model\"\n",
    "model_MultiVariente = nn.Linear(n_features, output_size)"
   ]
  },
  {
   "cell_type": "markdown",
   "id": "0675fdc6",
   "metadata": {},
   "source": [
    "## Entrenamiento"
   ]
  },
  {
   "cell_type": "code",
   "execution_count": 26,
   "id": "26cf131b",
   "metadata": {},
   "outputs": [],
   "source": [
    "learning_rate = 0.1\n",
    "criterion = nn.MSELoss()\n",
    "optimizer = torch.optim.SGD(model_MultiVariente.parameters(), lr=learning_rate)"
   ]
  },
  {
   "cell_type": "code",
   "execution_count": 29,
   "id": "e3d368e7",
   "metadata": {
    "scrolled": true
   },
   "outputs": [
    {
     "name": "stdout",
     "output_type": "stream",
     "text": [
      "epoch: 10, loss = 1488.3113\n",
      "epoch: 20, loss = 443.4872\n",
      "epoch: 30, loss = 193.7608\n",
      "epoch: 40, loss = 129.4742\n",
      "epoch: 50, loss = 112.2168\n",
      "epoch: 60, loss = 107.4768\n",
      "epoch: 70, loss = 106.1586\n",
      "epoch: 80, loss = 105.7895\n",
      "epoch: 90, loss = 105.6858\n",
      "epoch: 100, loss = 105.6566\n"
     ]
    }
   ],
   "source": [
    "num_epocns = 100\n",
    "\n",
    "for epoch in range(num_epocns):\n",
    "    \n",
    "    # Forward pass(pase hacia adelante)\n",
    "    y_predicted = model_MultiVariente(X_variante)\n",
    "    \n",
    "    # Loss(Perdida)\n",
    "    loss = criterion(y_predicted, y_variante)\n",
    "    \n",
    "    # Backward pass(pase hacia atras)\n",
    "    loss.backward()\n",
    "    \n",
    "    # Actulizacion\n",
    "    optimizer.step()\n",
    "    \n",
    "    # Vover a 0 los gradientes\n",
    "    optimizer.zero_grad()\n",
    "    \n",
    "    # Resultados\n",
    "    if (epoch+1) % 10 == 0:\n",
    "        print(f\"epoch: {epoch+1}, loss = {loss.item():.4f}\")"
   ]
  },
  {
   "cell_type": "markdown",
   "id": "2f50766d",
   "metadata": {},
   "source": [
    "# Regresion lineal Lasso"
   ]
  },
  {
   "cell_type": "markdown",
   "id": "e3774f4a",
   "metadata": {},
   "source": [
    "## Datos"
   ]
  },
  {
   "cell_type": "code",
   "execution_count": 65,
   "id": "514f41f1",
   "metadata": {},
   "outputs": [],
   "source": [
    "# Cargamos los datos de \"datasets\"\n",
    "X_numpy_lasso, y_numpy_lasso = datasets.make_regression(n_samples=100, n_features=2, n_targets=2, noise=10, random_state=1)\n",
    "\n",
    "# Comvertimos los datos a tensores\n",
    "x_lasso = torch.from_numpy(X_numpy_lasso.astype(np.float32))\n",
    "y_lasso = torch.from_numpy(y_numpy_lasso.astype(np.float32))\n",
    "\n",
    "# Cambiamos la forma de tensor \"y\" hacemos que el numero de valores sea 0(0==1) y que tenga una columna\n",
    "\n",
    "y_lasso = y_lasso.view(y_lasso.shape[0],2)"
   ]
  },
  {
   "cell_type": "markdown",
   "id": "e415a7af",
   "metadata": {},
   "source": [
    "## Modelo"
   ]
  },
  {
   "cell_type": "code",
   "execution_count": 66,
   "id": "cd98b109",
   "metadata": {},
   "outputs": [],
   "source": [
    "# Importamos y entrenamos nuestro modelo\n",
    "clf = linear_model.Lasso(alpha=0.1)"
   ]
  },
  {
   "cell_type": "markdown",
   "id": "287fd16b",
   "metadata": {},
   "source": [
    "## Testeo/ entrenamiento"
   ]
  },
  {
   "cell_type": "code",
   "execution_count": 67,
   "id": "61d281b6",
   "metadata": {},
   "outputs": [
    {
     "data": {
      "text/plain": [
       "0.9725990637325824"
      ]
     },
     "execution_count": 67,
     "metadata": {},
     "output_type": "execute_result"
    }
   ],
   "source": [
    "# Importamos y entrenamos nuestro modelo\n",
    "clf.fit(x_lasso, y_lasso)\n",
    "\n",
    "# Medimos la puntucion de nuestro modelo\n",
    "clf.score(x_lasso, y_lasso)"
   ]
  },
  {
   "cell_type": "markdown",
   "id": "416a310b",
   "metadata": {},
   "source": [
    "# Regresión Bayesiana"
   ]
  },
  {
   "cell_type": "markdown",
   "id": "29e6c2b9",
   "metadata": {},
   "source": [
    "## Datos"
   ]
  },
  {
   "cell_type": "code",
   "execution_count": 68,
   "id": "5f8c31f0",
   "metadata": {},
   "outputs": [],
   "source": [
    "# Cargamos los datos de \"datasets\"\n",
    "X_numpy_baye, y_numpy_baye = datasets.make_regression(n_samples=100, n_features=2, n_targets=1, noise=10, random_state=1)\n",
    "\n",
    "# Comvertimos los datos a tensores\n",
    "x_baye = torch.from_numpy(X_numpy_baye.astype(np.float32))\n",
    "y_baye = torch.from_numpy(y_numpy_baye.astype(np.float32))\n",
    "\n",
    "# Cambiamos la forma de tensor \"y\" hacemos que el numero de valores sea 0(0==1) y que tenga una columna\n",
    "\n",
    "y_baye = y_baye.view(y_baye.shape[0],1)"
   ]
  },
  {
   "cell_type": "markdown",
   "id": "f5cd19f5",
   "metadata": {},
   "source": [
    "## Modelo"
   ]
  },
  {
   "cell_type": "code",
   "execution_count": 69,
   "id": "4d84c4e8",
   "metadata": {},
   "outputs": [],
   "source": [
    "# Importamos y entrenamos nuestro modelo\n",
    "lb = linear_model.BayesianRidge()"
   ]
  },
  {
   "cell_type": "markdown",
   "id": "b1f48639",
   "metadata": {},
   "source": [
    "## Testeo/ entrenamiento"
   ]
  },
  {
   "cell_type": "code",
   "execution_count": 70,
   "id": "abc19405",
   "metadata": {
    "scrolled": true
   },
   "outputs": [
    {
     "name": "stderr",
     "output_type": "stream",
     "text": [
      "/home/monky/jupyter_dir/jupyter_env/lib/python3.9/site-packages/sklearn/utils/validation.py:993: DataConversionWarning: A column-vector y was passed when a 1d array was expected. Please change the shape of y to (n_samples, ), for example using ravel().\n",
      "  y = column_or_1d(y, warn=True)\n"
     ]
    },
    {
     "data": {
      "text/plain": [
       "0.9818248431703536"
      ]
     },
     "execution_count": 70,
     "metadata": {},
     "output_type": "execute_result"
    }
   ],
   "source": [
    "# Importamos y entrenamos nuestro modelo\n",
    "lb.fit(x_baye, y_baye)\n",
    "\n",
    "# Medimos la puntucion de nuestro modelo\n",
    "lb.score(x_baye,y_baye)"
   ]
  },
  {
   "cell_type": "markdown",
   "id": "dd481fd1",
   "metadata": {},
   "source": [
    "# Regresión de Cresta"
   ]
  },
  {
   "cell_type": "markdown",
   "id": "e9241953",
   "metadata": {},
   "source": [
    "## Datos"
   ]
  },
  {
   "cell_type": "code",
   "execution_count": 71,
   "id": "fec44012",
   "metadata": {},
   "outputs": [],
   "source": [
    "# Cargamos los datos de \"datasets\"\n",
    "X_numpy_ridge, y_numpy_ridge = datasets.make_regression(n_samples=100, n_features=2, n_targets=2, noise=10, random_state=1)\n",
    "\n",
    "# Comvertimos los datos a tensores\n",
    "x_ridge = torch.from_numpy(X_numpy_ridge.astype(np.float32))\n",
    "y_ridge = torch.from_numpy(y_numpy_ridge.astype(np.float32))\n",
    "\n",
    "# Cambiamos la forma de tensor \"y\" hacemos que el numero de valores sea 0(0==1) y que tenga una columna\n",
    "\n",
    "y_ridge = y_ridge.view(y_ridge.shape[0],2)"
   ]
  },
  {
   "cell_type": "markdown",
   "id": "94d3cc5f",
   "metadata": {},
   "source": [
    "## Modelo"
   ]
  },
  {
   "cell_type": "code",
   "execution_count": 72,
   "id": "2b2df253",
   "metadata": {},
   "outputs": [],
   "source": [
    "# Importamos y entrenamos nuestro modelo\n",
    "lr = linear_model.Ridge()"
   ]
  },
  {
   "cell_type": "markdown",
   "id": "014ed484",
   "metadata": {},
   "source": [
    "## Testeo/ entrenamiento"
   ]
  },
  {
   "cell_type": "code",
   "execution_count": 76,
   "id": "d5d1a514",
   "metadata": {},
   "outputs": [
    {
     "name": "stdout",
     "output_type": "stream",
     "text": [
      "-0.016124406551548454\n",
      "[[9.99999264e-01 1.25978626e-06]\n",
      " [1.25978626e-06 9.99997425e-01]]\n"
     ]
    }
   ],
   "source": [
    "# Importamos y entrenamos nuestro modelo\n",
    "lr.fit(x_ridge, y_ridge)\n",
    "\n",
    "# Medimos la puntucion de nuestro modelo\n",
    "print(lr.score(x_ridge,y_ridge))\n",
    "print(lr.coef_)"
   ]
  },
  {
   "cell_type": "markdown",
   "id": "9c2be4f1",
   "metadata": {},
   "source": [
    "# Regresión Polinomial"
   ]
  },
  {
   "cell_type": "markdown",
   "id": "f642e529",
   "metadata": {},
   "source": [
    "## Datos"
   ]
  },
  {
   "cell_type": "code",
   "execution_count": 86,
   "id": "bee13caf",
   "metadata": {},
   "outputs": [],
   "source": [
    "from sklearn.preprocessing import PolynomialFeatures\n",
    "\n",
    "X_Poli = np.array([[0, 0], [0, 1], [1, 0], [1, 1]])\n",
    "y_Poli = X[:, 0] ^ X[:, 1]\n",
    "\n",
    "X_Poli = PolynomialFeatures(interaction_only=True).fit_transform(X).astype(int)"
   ]
  },
  {
   "cell_type": "markdown",
   "id": "f8b03353",
   "metadata": {},
   "source": [
    "## Modelo"
   ]
  },
  {
   "cell_type": "code",
   "execution_count": 88,
   "id": "91934633",
   "metadata": {},
   "outputs": [],
   "source": [
    "# Importamos y entrenamos nuestro modelo\n",
    "lp = linear_model.Perceptron(fit_intercept=False, max_iter=10, tol=None,shuffle=False)"
   ]
  },
  {
   "cell_type": "markdown",
   "id": "ed4ffaeb",
   "metadata": {},
   "source": [
    "## Testeo/ entrenamiento"
   ]
  },
  {
   "cell_type": "code",
   "execution_count": 89,
   "id": "218925f5",
   "metadata": {},
   "outputs": [
    {
     "name": "stdout",
     "output_type": "stream",
     "text": [
      "1.0\n",
      "[[ 1.  1. -2.  0.  0. -2.  0.  0.  0.  0.  0.]]\n"
     ]
    }
   ],
   "source": [
    "# Importamos y entrenamos nuestro modelo\n",
    "lp.fit(X_Poli, y_Poli)\n",
    "\n",
    "# Medimos la puntucion de nuestro modelo\n",
    "print(lp.score(X_Poli,y_Poli))\n",
    "print(lp.coef_)"
   ]
  },
  {
   "cell_type": "code",
   "execution_count": 4,
   "id": "3c63ffcb",
   "metadata": {},
   "outputs": [
    {
     "name": "stdout",
     "output_type": "stream",
     "text": [
      "1.0\n",
      "[[ 0.  2.  2. -5.]]\n"
     ]
    }
   ],
   "source": [
    "######################## Librerias #########################\n",
    "from sklearn import linear_model\n",
    "\n",
    "from sklearn.preprocessing import PolynomialFeatures\n",
    "\n",
    "import numpy as np\n",
    "\n",
    "######################### Datos #########################\n",
    "from sklearn.preprocessing import PolynomialFeatures\n",
    "\n",
    "X_Poli = np.array([[0, 0], [0, 1], [1, 0], [1, 1]])\n",
    "y_Poli = X_Poli[:, 0] ^ X_Poli[:, 1]\n",
    "\n",
    "X_Poli = PolynomialFeatures(interaction_only=True).fit_transform(X_Poli).astype(int)\n",
    "\n",
    "######################### Modelo/Entrenamiento/Testeo #########################\n",
    "# Importamos y entrenamos nuestro modelo\n",
    "lp = linear_model.Perceptron(fit_intercept=False, max_iter=10, tol=None,shuffle=False).fit(X_Poli, y_Poli)\n",
    "# Medimos la puntucion de nuestro modelo\n",
    "print(lp.score(X_Poli,y_Poli))\n",
    "print(lp.coef_)"
   ]
  },
  {
   "cell_type": "code",
   "execution_count": null,
   "id": "12626a33",
   "metadata": {},
   "outputs": [],
   "source": []
  }
 ],
 "metadata": {
  "kernelspec": {
   "display_name": "Python 3 (ipykernel)",
   "language": "python",
   "name": "python3"
  },
  "language_info": {
   "codemirror_mode": {
    "name": "ipython",
    "version": 3
   },
   "file_extension": ".py",
   "mimetype": "text/x-python",
   "name": "python",
   "nbconvert_exporter": "python",
   "pygments_lexer": "ipython3",
   "version": "3.9.7"
  }
 },
 "nbformat": 4,
 "nbformat_minor": 5
}
