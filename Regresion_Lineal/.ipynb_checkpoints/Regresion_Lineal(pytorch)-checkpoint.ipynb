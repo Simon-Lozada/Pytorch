{
 "cells": [
  {
   "cell_type": "markdown",
   "id": "b8889281",
   "metadata": {},
   "source": [
    "## Tareas\n",
    "\n",
    "**1) Diseñar nuestro modelo:** (input, output, size, forward pass)\n",
    "\n",
    "**2) Construir \"loss\"(perdida) y \"optimizer\"(optimizador)**\n",
    "\n",
    "**3) Bucle de entrenamiento:**\n",
    " - Forward pass: computar predicción\n",
    " - backward pass: gradientes\n",
    " - Actulizar los pesos "
   ]
  },
  {
   "cell_type": "code",
   "execution_count": 1,
   "id": "11f39a55",
   "metadata": {},
   "outputs": [],
   "source": [
    "import torch\n",
    "from sklearn import datasets\n",
    "\n",
    "import numpy as np\n",
    "import matplotlib.pyplot as plt"
   ]
  },
  {
   "cell_type": "markdown",
   "id": "2588b8c8",
   "metadata": {},
   "source": [
    "## Preparamos los datos "
   ]
  },
  {
   "cell_type": "code",
   "execution_count": 2,
   "id": "2a490fa1",
   "metadata": {},
   "outputs": [],
   "source": [
    "# Cargamos los datos de \"datasets\"\n",
    "# X_numpy = Datos , y_numpy = Objetivo\n",
    "X_numpy, y_numpy = datasets.make_regression(n_samples=100, n_features=1, noise=20, random_state=1)\n",
    "\n",
    "# Comvertimos los datos a tensores\n",
    "X = torch.from_numpy(X_numpy.astype(np.float32))\n",
    "y = torch.from_numpy(y_numpy.astype(np.float32))\n",
    "\n",
    "# Cambiamos la forma de tensor \"y\" hacemos que el numero de valores sea 0(0==1) y que tenga una columna\n",
    "y = y.view(y.shape[0],1)\n",
    "\n",
    "# Guardamos el numero de ejmplos y objentivos\n",
    "n_samples, n_features = X.shape"
   ]
  },
  {
   "cell_type": "markdown",
   "id": "123aa49d",
   "metadata": {},
   "source": [
    "## Modelo"
   ]
  },
  {
   "cell_type": "code",
   "execution_count": 3,
   "id": "6acd36ac",
   "metadata": {},
   "outputs": [],
   "source": [
    "# model prediction\n",
    "def forward(x):\n",
    "    return w * x"
   ]
  },
  {
   "cell_type": "markdown",
   "id": "2adfb1b8",
   "metadata": {},
   "source": [
    "## Perdida(loss) y Optimizador(optmizer)"
   ]
  },
  {
   "cell_type": "code",
   "execution_count": 4,
   "id": "859632f9",
   "metadata": {},
   "outputs": [],
   "source": [
    "# loss = MSE\n",
    "def loss(y, y_predicted):\n",
    "    return ((y_predicted - y)**2).mean()\n",
    "\n",
    "learning_rate = 1.00\n",
    "\n",
    "w = torch.tensor(0.0, dtype = torch.float32, requires_grad = True)"
   ]
  },
  {
   "cell_type": "markdown",
   "id": "c8f78616",
   "metadata": {},
   "source": [
    "## Bucle de entrenamiento"
   ]
  },
  {
   "cell_type": "code",
   "execution_count": 5,
   "id": "f1c2bac1",
   "metadata": {},
   "outputs": [
    {
     "name": "stdout",
     "output_type": "stream",
     "text": [
      "epoch: 10: w = 82.473, loos = 349.17565918\n",
      "epoch: 20: w = 82.795, loos = 348.92608643\n",
      "epoch: 30: w = 82.797, loos = 348.92605591\n",
      "epoch: 40: w = 82.797, loos = 348.92605591\n",
      "epoch: 50: w = 82.797, loos = 348.92605591\n",
      "epoch: 60: w = 82.797, loos = 348.92605591\n",
      "epoch: 70: w = 82.797, loos = 348.92605591\n",
      "epoch: 80: w = 82.797, loos = 348.92605591\n",
      "epoch: 90: w = 82.797, loos = 348.92605591\n",
      "epoch: 100: w = 82.797, loos = 348.92605591\n"
     ]
    }
   ],
   "source": [
    "num_epocns = 100\n",
    "\n",
    "for epoch in range(num_epocns):\n",
    "    # predicción = forward pass\n",
    "    y_pred = forward(X)\n",
    "    \n",
    "    # pérdida\n",
    "    l = loss(y, y_pred)\n",
    "    \n",
    "    # grandients = backward() #Bueno no exatamente en parte por eso no se tienen los mismos ressultdos\n",
    "    l.backward()\n",
    "    \n",
    "    #Actulizar los pesos\n",
    "    with torch.no_grad():\n",
    "        w -= learning_rate * w.grad\n",
    "        \n",
    "    # Poner en cero los gradientes\n",
    "    w.grad.zero_()\n",
    "        \n",
    "    if (epoch+1) % 10 == 0:\n",
    "        print(f\"epoch: {epoch+1}: w = {w:.3f}, loos = {l:.8f}\")"
   ]
  },
  {
   "cell_type": "markdown",
   "id": "c808a11a",
   "metadata": {},
   "source": [
    "## Visulizacion"
   ]
  },
  {
   "cell_type": "code",
   "execution_count": 6,
   "id": "703cb0ce",
   "metadata": {},
   "outputs": [
    {
     "data": {
      "image/png": "[encoded data removed]",
      "text/plain": [
       "<Figure size 432x288 with 1 Axes>"
      ]
     },
     "metadata": {
      "needs_background": "light"
     },
     "output_type": "display_data"
    }
   ],
   "source": [
    "# guardamos los resultados de nuestro modelo aqui\n",
    "predited = forward(X).detach().numpy()\n",
    "\n",
    "# hacemos un grafico para ver los resultados\n",
    "# Ponemos los resultados a predecir como puntos rojos\n",
    "plt.plot(X_numpy, y_numpy, \"ro\")\n",
    "# Trazamos una linea azul como nuestras predicciones\n",
    "plt.plot(X_numpy, predited, \"b\")\n",
    "\n",
    "#Mostramos el grafico\n",
    "plt.show()"
   ]
  },
  {
   "cell_type": "code",
   "execution_count": null,
   "id": "8782df46",
   "metadata": {},
   "outputs": [],
   "source": []
  }
 ],
 "metadata": {
  "kernelspec": {
   "display_name": "Python 3 (ipykernel)",
   "language": "python",
   "name": "python3"
  },
  "language_info": {
   "codemirror_mode": {
    "name": "ipython",
    "version": 3
   },
   "file_extension": ".py",
   "mimetype": "text/x-python",
   "name": "python",
   "nbconvert_exporter": "python",
   "pygments_lexer": "ipython3",
   "version": "3.9.7"
  }
 },
 "nbformat": 4,
 "nbformat_minor": 5
}
