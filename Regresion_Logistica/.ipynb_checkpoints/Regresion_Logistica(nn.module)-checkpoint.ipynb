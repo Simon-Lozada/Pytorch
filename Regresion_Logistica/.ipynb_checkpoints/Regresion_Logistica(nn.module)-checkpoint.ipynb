{
 "cells": [
  {
   "cell_type": "markdown",
   "id": "0b2edb82",
   "metadata": {},
   "source": [
    "# Tareas\n",
    "\n",
    "**1) Diseñar nuestro modelo:** (input, output, size, forward pass)\n",
    "\n",
    "**2) Construir \"loss\"(perdida) y \"optimizer\"(optimizador)**\n",
    "\n",
    "**3) Bucle de entrenamiento:**\n",
    " - Forward pass: computar predicción\n",
    " - backward pass: gradientes\n",
    " - Actulizar los pesos "
   ]
  },
  {
   "cell_type": "code",
   "execution_count": 1,
   "id": "191b8a3a",
   "metadata": {},
   "outputs": [],
   "source": [
    "import torch\n",
    "import torch.nn as nn\n",
    "#import torch.nn.functional as F\n",
    "\n",
    "from sklearn import datasets\n",
    "from sklearn.preprocessing import StandardScaler\n",
    "from sklearn.model_selection import train_test_split\n",
    "\n",
    "import numpy as np\n",
    "import matplotlib.pyplot as plt"
   ]
  },
  {
   "cell_type": "markdown",
   "id": "a48210a4",
   "metadata": {},
   "source": [
    "## Preparamos los datos "
   ]
  },
  {
   "cell_type": "code",
   "execution_count": 2,
   "id": "9c138440",
   "metadata": {},
   "outputs": [],
   "source": [
    "# Cargamos nuestro data set\n",
    "bc = datasets.load_breast_cancer()\n",
    "\n",
    "# Guardamos nuestros datos en \"x\" y nuestro objetivos en \"y\"\n",
    "X, y = bc.data, bc.target"
   ]
  },
  {
   "cell_type": "code",
   "execution_count": 3,
   "id": "289893ed",
   "metadata": {},
   "outputs": [],
   "source": [
    "# Guardamos el numero datos en \"n_features\" y nuestro numero de objetivos en \"n_samples\"\n",
    "n_samples, n_features = X.shape\n",
    "\n",
    "# Divimos nuestro datos de entranamiento y testeo\n",
    "X_train, X_test, y_train, y_test = train_test_split(X, y, test_size=0.2, random_state=1234)"
   ]
  },
  {
   "cell_type": "code",
   "execution_count": 4,
   "id": "6e9c9cb2",
   "metadata": {},
   "outputs": [],
   "source": [
    "# Gurdamos nuestro \"StandardScaler\" (una especie de normalizacion que aplica en las columnas)\n",
    "sc = StandardScaler()\n",
    "\n",
    "# Entrenamos a nuestro \"StandardScaler\"\n",
    "X_train = sc.fit_transform(X_train)\n",
    "\n",
    "# Testeamos a nuestro \"StandardScaler\"\n",
    "X_test  = sc.transform(X_test)"
   ]
  },
  {
   "cell_type": "code",
   "execution_count": 5,
   "id": "738d9765",
   "metadata": {},
   "outputs": [],
   "source": [
    "# Transformamos los datos de un array numpy a Tensor \"float32\"\n",
    "X_train = torch.from_numpy(X_train.astype(np.float32))\n",
    "X_test  = torch.from_numpy(X_test.astype(np.float32))\n",
    "y_train = torch.from_numpy(y_train.astype(np.float32))\n",
    "y_test  = torch.from_numpy(y_test.astype(np.float32))"
   ]
  },
  {
   "cell_type": "code",
   "execution_count": 6,
   "id": "129c500a",
   "metadata": {},
   "outputs": [],
   "source": [
    "# Transformamos los objetivos para que solo tengan una columna \n",
    "y_train = y_train.view(y_train.shape[0], 1)\n",
    "y_test  = y_test.view(y_test.shape[0], 1)"
   ]
  },
  {
   "cell_type": "markdown",
   "id": "a17c1787",
   "metadata": {},
   "source": [
    "## Modelo"
   ]
  },
  {
   "cell_type": "code",
   "execution_count": 7,
   "id": "54df2f48",
   "metadata": {},
   "outputs": [],
   "source": [
    "# f = wx + b ,sigmod al final\n",
    "class LogisticRegression(nn.Module):\n",
    "    \n",
    "    def __init__(self, n_input_features):\n",
    "        # Volvemos a \"LogisticRegression\" una seper clase\n",
    "        super(LogisticRegression, self).__init__()\n",
    "        # Iniciamos con una capa \"lineal\" simple que tome nuestros features y devuleva una prediccion\n",
    "        self.linear = nn.Linear(n_input_features, 1)\n",
    "        \n",
    "    def forward(self, x):\n",
    "        # Tomamos la prediccion echa por la capa lineal y se la damos a una capa \"sigmoid\"\n",
    "        # Luego Guardamos nuestra nueva prediccion en \"y_predicted\" y lo retornamos\n",
    "        y_predicted = torch.sigmoid(self.linear(x))\n",
    "        return y_predicted\n",
    "\n",
    "# Guardasmos nuesto modelo en \"model\"\n",
    "model = LogisticRegression(n_features)"
   ]
  },
  {
   "cell_type": "markdown",
   "id": "c1ad6176",
   "metadata": {},
   "source": [
    "## Perdida(loss) y Optimizador(optmizer)"
   ]
  },
  {
   "cell_type": "code",
   "execution_count": 8,
   "id": "ab685626",
   "metadata": {},
   "outputs": [],
   "source": [
    "learning_rate = 0.01\n",
    "criterion = nn.MSELoss()\n",
    "#criterion = nn.CrossEntropyLoss()\n",
    "optimizer = torch.optim.SGD(model.parameters(), lr=learning_rate)"
   ]
  },
  {
   "cell_type": "markdown",
   "id": "4d912f48",
   "metadata": {},
   "source": [
    "## Bucle de entrenamiento"
   ]
  },
  {
   "cell_type": "code",
   "execution_count": 9,
   "id": "14920cbe",
   "metadata": {},
   "outputs": [
    {
     "name": "stdout",
     "output_type": "stream",
     "text": [
      "epoch: 10, loss = 0.2145\n",
      "epoch: 20, loss = 0.1827\n",
      "epoch: 30, loss = 0.1596\n",
      "epoch: 40, loss = 0.1425\n",
      "epoch: 50, loss = 0.1294\n",
      "epoch: 60, loss = 0.1190\n",
      "epoch: 70, loss = 0.1107\n",
      "epoch: 80, loss = 0.1039\n",
      "epoch: 90, loss = 0.0982\n",
      "epoch: 100, loss = 0.0933\n"
     ]
    }
   ],
   "source": [
    "num_epocns = 100\n",
    "\n",
    "for epoch in range(num_epocns):\n",
    "    \n",
    "    # Forward pass(pase hacia adelante)\n",
    "    y_predicted = model(X_train)\n",
    "    \n",
    "    # Loss(Perdida)\n",
    "    loss = criterion(y_predicted, y_train)\n",
    "    \n",
    "    # Backward pass(pase hacia atras)\n",
    "    loss.backward()\n",
    "    \n",
    "    # Actulizacion\n",
    "    optimizer.step()\n",
    "    \n",
    "    # Vover a 0 los gradientes\n",
    "    optimizer.zero_grad()\n",
    "    \n",
    "    # Resultados\n",
    "    if (epoch+1) % 10 == 0:\n",
    "        print(f\"epoch: {epoch+1}, loss = {loss.item():.4f}\")"
   ]
  },
  {
   "cell_type": "markdown",
   "id": "cfa90ce1",
   "metadata": {},
   "source": [
    "## Testeo"
   ]
  },
  {
   "cell_type": "code",
   "execution_count": 10,
   "id": "3615a36e",
   "metadata": {},
   "outputs": [
    {
     "name": "stdout",
     "output_type": "stream",
     "text": [
      "accuracy = 0.8860\n"
     ]
    }
   ],
   "source": [
    "# relu\n",
    "# Usamos \"torch.no_grad()\" para que no se incluya ennnuestro grafico computacional\n",
    "with torch.no_grad():\n",
    "    # Hacemos predicciones con nuestros datos de testeo\n",
    "    y_predicted = model(X_test)\n",
    "    \n",
    "    # Redondeamos los resultados\n",
    "    y_predicted_cls = y_predicted.round()\n",
    "    \n",
    "    #Calculamos la precicion de nuestro modelo ((Suma respuestas correctas) / (Suma respuestas incorrectas))\n",
    "    accuaracy = y_predicted_cls.eq(y_test).sum() / float(y_test.shape[0])\n",
    "    \n",
    "    #Mostramos la exactitud de nuestro modelo\n",
    "    print(f\"accuracy = {accuaracy:.4f}\")"
   ]
  }
 ],
 "metadata": {
  "kernelspec": {
   "display_name": "Python 3 (ipykernel)",
   "language": "python",
   "name": "python3"
  },
  "language_info": {
   "codemirror_mode": {
    "name": "ipython",
    "version": 3
   },
   "file_extension": ".py",
   "mimetype": "text/x-python",
   "name": "python",
   "nbconvert_exporter": "python",
   "pygments_lexer": "ipython3",
   "version": "3.9.7"
  }
 },
 "nbformat": 4,
 "nbformat_minor": 5
}
