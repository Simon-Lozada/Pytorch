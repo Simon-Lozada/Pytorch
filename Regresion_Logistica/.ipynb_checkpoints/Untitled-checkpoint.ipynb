{
 "cells": [
  {
   "cell_type": "code",
   "execution_count": 1,
   "id": "8d0efab2",
   "metadata": {},
   "outputs": [],
   "source": [
    "import torch.nn as nn\n",
    "import torch\n",
    "\n",
    "import matplotlib.pyplot as plt \n",
    "import pandas as pd\n",
    "\n",
    "from torch.utils.data import Dataset, DataLoader\n",
    "from sklearn.model_selection import train_test_split\n",
    "from sklearn.datasets import load_iris\n",
    "import numpy as np"
   ]
  },
  {
   "cell_type": "code",
   "execution_count": 2,
   "id": "10ed44d9",
   "metadata": {},
   "outputs": [
    {
     "data": {
      "text/plain": [
       "<torch._C.Generator at 0x7f03b42b53f0>"
      ]
     },
     "execution_count": 2,
     "metadata": {},
     "output_type": "execute_result"
    }
   ],
   "source": [
    "torch.manual_seed(2)"
   ]
  },
  {
   "cell_type": "markdown",
   "id": "97bbd949",
   "metadata": {},
   "source": [
    "# Cargar conjunto de datos de iris"
   ]
  },
  {
   "cell_type": "code",
   "execution_count": 3,
   "id": "636139aa",
   "metadata": {},
   "outputs": [],
   "source": [
    "# Cargamos los datos\n",
    "iris = load_iris()\n",
    "# X = Features/Caracteristicas, Y = Target/Objetivo\n",
    "X, Y = iris.data, iris.target"
   ]
  },
  {
   "cell_type": "markdown",
   "id": "31886345",
   "metadata": {},
   "source": [
    "Divimos entre datos de entrenamiento y validacion/testeo"
   ]
  },
  {
   "cell_type": "code",
   "execution_count": 4,
   "id": "bbb6f1d3",
   "metadata": {},
   "outputs": [],
   "source": [
    "x_train, x_val, y_train, y_val = train_test_split(X, Y, test_size=0.30, random_state=42)"
   ]
  },
  {
   "cell_type": "markdown",
   "id": "74dcdec1",
   "metadata": {},
   "source": [
    "Convertimos nuestros Features/Caracteristicas a \"float32\""
   ]
  },
  {
   "cell_type": "code",
   "execution_count": 5,
   "id": "36135dc0",
   "metadata": {},
   "outputs": [],
   "source": [
    "x_train = x_train.astype(\"float32\")\n",
    "x_val = x_val.astype(\"float32\")"
   ]
  },
  {
   "cell_type": "markdown",
   "id": "4e974cb4",
   "metadata": {},
   "source": [
    "Hacemos una clase para aplicar las transformaciones necesarias a los datos (para usar mini-lotes, batch) "
   ]
  },
  {
   "cell_type": "code",
   "execution_count": 6,
   "id": "58beb0a0",
   "metadata": {},
   "outputs": [],
   "source": [
    "class Data(Dataset):\n",
    "    def __init__(self):\n",
    "        # Convertimos nuestros datos de entrenamiento\n",
    "        self.x = torch.from_numpy(x_train)\n",
    "        self.y = torch.from_numpy(y_train)\n",
    "        \n",
    "        # Guardamos el numero de datos de entrenamiento \n",
    "        self.len = self.x.shape[0]\n",
    "    def __getitem__(self,index):      \n",
    "        return self.x[index], self.y[index]\n",
    "    def __len__(self):\n",
    "        return self.len"
   ]
  },
  {
   "cell_type": "markdown",
   "id": "bd6fec40",
   "metadata": {},
   "source": [
    "Creamos nuestro mini-lote"
   ]
  },
  {
   "cell_type": "code",
   "execution_count": 7,
   "id": "b5bcb100",
   "metadata": {},
   "outputs": [],
   "source": [
    "trainloader = DataLoader(dataset=Data(),batch_size=64)"
   ]
  },
  {
   "cell_type": "markdown",
   "id": "62a7a03f",
   "metadata": {},
   "source": [
    "Veamos nuestras caracteristicas"
   ]
  },
  {
   "cell_type": "code",
   "execution_count": 8,
   "id": "709e37ab",
   "metadata": {},
   "outputs": [
    {
     "name": "stdout",
     "output_type": "stream",
     "text": [
      "Datos: tensor([[6.3000, 2.8000, 5.1000, 1.5000],\n",
      "        [6.4000, 3.1000, 5.5000, 1.8000],\n",
      "        [6.6000, 3.0000, 4.4000, 1.4000],\n",
      "        [7.2000, 3.6000, 6.1000, 2.5000],\n",
      "        [5.7000, 2.9000, 4.2000, 1.3000],\n",
      "        [7.6000, 3.0000, 6.6000, 2.1000],\n",
      "        [5.6000, 3.0000, 4.5000, 1.5000],\n",
      "        [5.1000, 3.5000, 1.4000, 0.2000],\n",
      "        [7.7000, 2.8000, 6.7000, 2.0000]])\n",
      "Forma: torch.Size([105, 4])\n"
     ]
    }
   ],
   "source": [
    "print(\"Datos:\",Data().x[1:10])\n",
    "print(\"Forma:\",Data().x.shape)"
   ]
  },
  {
   "cell_type": "markdown",
   "id": "7fcb53db",
   "metadata": {},
   "source": [
    "Veamos nuestros objetivos"
   ]
  },
  {
   "cell_type": "code",
   "execution_count": 9,
   "id": "14736e33",
   "metadata": {},
   "outputs": [
    {
     "name": "stdout",
     "output_type": "stream",
     "text": [
      "Datos: tensor([2, 2, 1, 2, 1, 2, 1, 0, 2])\n",
      "Forma: torch.Size([105])\n"
     ]
    }
   ],
   "source": [
    "print(\"Datos:\",Data().y[1:10])\n",
    "print(\"Forma:\",Data().y.shape)"
   ]
  },
  {
   "cell_type": "markdown",
   "id": "cc8ca02c",
   "metadata": {},
   "source": [
    "Transformamos nuestros datos de array a tensores"
   ]
  },
  {
   "cell_type": "code",
   "execution_count": 10,
   "id": "0cbceada",
   "metadata": {},
   "outputs": [],
   "source": [
    "y_val = torch.from_numpy(y_val)\n",
    "x_val = torch.from_numpy(x_val)"
   ]
  },
  {
   "cell_type": "markdown",
   "id": "c5e94aaa",
   "metadata": {},
   "source": [
    "# Construir modelo y entrenarlo"
   ]
  },
  {
   "cell_type": "code",
   "execution_count": 11,
   "id": "ff95640e",
   "metadata": {},
   "outputs": [],
   "source": [
    "class Net(nn.Module):\n",
    "    def __init__(self,D_in,H,D_out):\n",
    "        super(Net,self).__init__()\n",
    "        self.linear1=nn.Linear(D_in,H)\n",
    "        self.linear2=nn.Linear(H,D_out)\n",
    "\n",
    "        \n",
    "    def forward(self,x):\n",
    "        x=torch.sigmoid(self.linear1(x))  \n",
    "        #x=self.linear1(x)\n",
    "        x=self.linear2(x)\n",
    "        return x"
   ]
  },
  {
   "cell_type": "markdown",
   "id": "9f3057c8",
   "metadata": {},
   "source": [
    "Instaciamos nuestro modelo"
   ]
  },
  {
   "cell_type": "code",
   "execution_count": 12,
   "id": "5d8419da",
   "metadata": {},
   "outputs": [],
   "source": [
    "input_dim=4     # Cantidad de entradas (Variables del conjunto de datos)\n",
    "hidden_dim = 25 # Cantidad de salidas de \"linear1\" y entradas de \"linear2\" (capas ocultas)\n",
    "output_dim=3    # Cantidad de salidas de la clase \"linear2\" (nuemro de clases a predecir)\n",
    "\n",
    "model = Net(input_dim,hidden_dim,output_dim)"
   ]
  },
  {
   "cell_type": "markdown",
   "id": "ab063e10",
   "metadata": {},
   "source": [
    "Ver el tamaño de los parámetros del modelo:"
   ]
  },
  {
   "cell_type": "code",
   "execution_count": 13,
   "id": "654ce78f",
   "metadata": {},
   "outputs": [
    {
     "name": "stdout",
     "output_type": "stream",
     "text": [
      "Weights/Pesos: torch.Size([25, 4])\n",
      "Bias/Sesgos: torch.Size([25])\n"
     ]
    }
   ],
   "source": [
    "print(\"Weights/Pesos:\",list(model.parameters())[0].size())\n",
    "print(\"Bias/Sesgos:\",list(model.parameters())[1].size())"
   ]
  },
  {
   "cell_type": "markdown",
   "id": "d1aab5c0",
   "metadata": {},
   "source": [
    "**Hiperparametros, Optimizador, Metrica**"
   ]
  },
  {
   "cell_type": "code",
   "execution_count": 14,
   "id": "c5e2686e",
   "metadata": {},
   "outputs": [],
   "source": [
    "criterion = nn.CrossEntropyLoss()\n",
    "learning_rate=0.1\n",
    "optimizer=torch.optim.SGD(model.parameters(), lr=learning_rate)"
   ]
  },
  {
   "cell_type": "code",
   "execution_count": 15,
   "id": "c2cb1d16",
   "metadata": {
    "scrolled": true
   },
   "outputs": [
    {
     "name": "stdout",
     "output_type": "stream",
     "text": [
      "TRAIN: epoch = 10, loss = 0.9554, accuaracy = 0.6585\n",
      "TEST: epoch = 10, loss = 0.9641, accuracy = 0.8667\n",
      "TRAIN: epoch = 20, loss = 0.8671, accuaracy = 0.6341\n",
      "TEST: epoch = 20, loss = 0.8322, accuracy = 0.8000\n",
      "TRAIN: epoch = 30, loss = 0.7809, accuaracy = 0.7073\n",
      "TEST: epoch = 30, loss = 0.7108, accuracy = 0.8000\n",
      "TRAIN: epoch = 40, loss = 0.7068, accuaracy = 0.8049\n",
      "TEST: epoch = 40, loss = 0.6137, accuracy = 0.8000\n",
      "TRAIN: epoch = 50, loss = 0.6482, accuaracy = 0.8780\n",
      "TEST: epoch = 50, loss = 0.5425, accuracy = 0.8889\n",
      "TRAIN: epoch = 60, loss = 0.6023, accuaracy = 0.9756\n",
      "TEST: epoch = 60, loss = 0.4909, accuracy = 0.9556\n",
      "TRAIN: epoch = 70, loss = 0.5650, accuaracy = 0.9756\n",
      "TEST: epoch = 70, loss = 0.4522, accuracy = 0.9778\n",
      "TRAIN: epoch = 80, loss = 0.5330, accuaracy = 1.0000\n",
      "TEST: epoch = 80, loss = 0.4215, accuracy = 1.0000\n",
      "TRAIN: epoch = 90, loss = 0.5043, accuaracy = 1.0000\n",
      "TEST: epoch = 90, loss = 0.3958, accuracy = 1.0000\n",
      "TRAIN: epoch = 100, loss = 0.4775, accuaracy = 1.0000\n",
      "TEST: epoch = 100, loss = 0.3731, accuracy = 1.0000\n"
     ]
    }
   ],
   "source": [
    "n_epochs=100\n",
    "\n",
    "Loss = []\n",
    "Accuracy = []\n",
    "\n",
    "Loss_test = []\n",
    "Accuracy_test = []\n",
    "for epoch in range(n_epochs):\n",
    "        \n",
    "        #################################### TRAIN ####################################\n",
    "    for x, y in trainloader:\n",
    "        # Hacemos una prediccion\n",
    "        y_predicted = model(x)\n",
    "        \n",
    "        ############################# Precision/Accuracy #############################\n",
    "        # Transformamos nuestras probabilidades en el objetivo mas probable\n",
    "        Target_predicted = torch.argmax(y_predicted, dim=1) \n",
    "        \n",
    "        # Calculmos nuestra precision\n",
    "        accuracy = Target_predicted.eq(y).sum() / float(y.shape[0])\n",
    "        \n",
    "        # Guardamos nuestra precision\n",
    "        Accuracy.append(accuracy.item())\n",
    "        \n",
    "        ################################ Perdida/Loss ################################\n",
    "        # Calcular la pérdida, debido a que se usa la entropía cruzada, tengo que predecir en las clases de pérdida,\n",
    "        # es decir, probabilidad por clase.  Eso servirá para torch.max(y,1)[1])\n",
    "        loss = criterion(y_predicted, y)\n",
    "        \n",
    "        # Guardamos la perdida\n",
    "        Loss.append(loss.data)\n",
    "        \n",
    "        ############################# Aprendizaje/Learn #############################\n",
    "        # Paso hacia atras(calcular parámetros de los gradientes)\n",
    "        loss.backward()\n",
    "        # actualizar parámetros\n",
    "        optimizer.step()\n",
    "        # Vaciamos los gradientes\n",
    "        optimizer.zero_grad()         \n",
    "        \n",
    "        #################################### TEST ####################################\n",
    "    with torch.no_grad():\n",
    "        # Hacemos predicciones con nuestros datos de testeo\n",
    "        y_predicted = model(x_val)\n",
    "\n",
    "        ############################# Precision/Accuracy #############################\n",
    "        Target_predicted_test = torch.argmax(y_predicted, dim=1) \n",
    "\n",
    "        #Calculamos la precicion del testeo\n",
    "        accuaracy_test = Target_predicted_test.eq(y_val).sum() / float(y_val.shape[0])\n",
    "\n",
    "        # Guardar accuracy(precisión) del testeo\n",
    "        Accuracy_test.append(accuaracy_test.item())\n",
    "        \n",
    "        ################################ Perdida/Loss ################################\n",
    "        \n",
    "        # Calcular la Loss(Perdida) del testeo\n",
    "        loss_test = criterion(y_predicted, y_val)\n",
    "        \n",
    "        # Guardar Loss(Perdida) del testeo\n",
    "        Loss_test.append(loss_test.item())\n",
    "        \n",
    "        # Resultados\n",
    "        if (epoch+1) % 10 == 0:\n",
    "            print(f\"TRAIN: epoch = {epoch+1}, loss = {loss.item():.4f}, accuaracy = {accuracy:.4f}\\nTEST: epoch = {epoch+1}, loss = {loss_test.item():.4f}, accuracy = {accuaracy_test:.4f}\")"
   ]
  }
 ],
 "metadata": {
  "kernelspec": {
   "display_name": "Python 3 (ipykernel)",
   "language": "python",
   "name": "python3"
  },
  "language_info": {
   "codemirror_mode": {
    "name": "ipython",
    "version": 3
   },
   "file_extension": ".py",
   "mimetype": "text/x-python",
   "name": "python",
   "nbconvert_exporter": "python",
   "pygments_lexer": "ipython3",
   "version": "3.9.7"
  }
 },
 "nbformat": 4,
 "nbformat_minor": 5
}
