{
 "cells": [
  {
   "cell_type": "code",
   "execution_count": 1,
   "id": "6ab848c0",
   "metadata": {},
   "outputs": [],
   "source": [
    "import torch\n",
    "import torch.nn as nn\n",
    "import torch.nn.functional as F"
   ]
  },
  {
   "cell_type": "markdown",
   "id": "4ffd5c73",
   "metadata": {},
   "source": [
    "Este es el modelo que entrenaremos.  Si le parece familiar, es porque es una variante de LeNet, discutida anteriormente en este video, adaptada para imágenes de 3 colores."
   ]
  },
  {
   "cell_type": "code",
   "execution_count": 6,
   "id": "ef06a950",
   "metadata": {},
   "outputs": [
    {
     "name": "stdout",
     "output_type": "stream",
     "text": [
      "Net(\n",
      "  (conv1): Conv2d(1, 6, kernel_size=(5, 5), stride=(1, 1))\n",
      "  (conv2): Conv2d(6, 16, kernel_size=(5, 5), stride=(1, 1))\n",
      "  (fc1): Linear(in_features=400, out_features=120, bias=True)\n",
      "  (fc2): Linear(in_features=120, out_features=84, bias=True)\n",
      "  (fc3): Linear(in_features=84, out_features=10, bias=True)\n",
      ")\n"
     ]
    }
   ],
   "source": [
    "class Net(nn.Module):\n",
    "\n",
    "    def __init__(self):\n",
    "        super(Net, self).__init__()\n",
    "        # 1 canal de imagen de entrada, 6 canales de salida, convolución cuadrada de 5x5\n",
    "        # núcleo\n",
    "        self.conv1 = nn.Conv2d(1, 6, 5)\n",
    "        self.conv2 = nn.Conv2d(6, 16, 5)\n",
    "        # una operación afín: y = Wx + b\n",
    "        self.fc1 = nn.Linear(16 * 5 * 5, 120)  # 5*5 from image dimension\n",
    "        self.fc2 = nn.Linear(120, 84)\n",
    "        self.fc3 = nn.Linear(84, 10)\n",
    "\n",
    "    def forward(self, x):\n",
    "        # Agrupación máxima sobre una ventana (2, 2)\n",
    "        x = F.max_pool2d(F.relu(self.conv1(x)), (2, 2))\n",
    "\n",
    "        # Si el tamaño es un cuadrado, puede especificar con un solo número\n",
    "        x = F.max_pool2d(F.relu(self.conv2(x)), 2)\n",
    "        x = torch.flatten(x, 1) # Aplanar todas las dimensiones excepto la dimensión del lote\n",
    "        x = F.relu(self.fc1(x))\n",
    "        x = F.relu(self.fc2(x))\n",
    "        x = self.fc3(x)\n",
    "        return x\n",
    "\n",
    "\n",
    "net = Net()\n",
    "\n",
    "net = Net()\n",
    "print(net)\n"
   ]
  },
  {
   "cell_type": "markdown",
   "id": "2a477b26",
   "metadata": {},
   "source": [
    "Solo tienes que definir la función **forward**, y la funcion **backward** (donde se calculan los gradientes) se define automáticamente para usted usando **autograd.** Puede usar cualquiera de las operaciones de Tensor en la funcion **forward**.\n",
    "\n",
    "Los parámetros aprendibles de un modelo son devueltos por net.parameters()"
   ]
  },
  {
   "cell_type": "code",
   "execution_count": 3,
   "id": "be0d0980",
   "metadata": {},
   "outputs": [
    {
     "name": "stdout",
     "output_type": "stream",
     "text": [
      "10\n",
      "torch.Size([6, 3, 5, 5])\n"
     ]
    }
   ],
   "source": [
    "params = list(net.parameters())\n",
    "print(len(params))\n",
    "print(params[0].size())  # peso de conv1"
   ]
  },
  {
   "cell_type": "markdown",
   "id": "b79b157c",
   "metadata": {},
   "source": [
    "Probemos una entrada aleatoria de 32x32.  Nota: el tamaño de entrada esperado de esta red (LeNet) es 32x32.  Para usar esta red en el conjunto de datos MNIST, cambie el tamaño de las imágenes del conjunto de datos a 32x32."
   ]
  },
  {
   "cell_type": "code",
   "execution_count": 10,
   "id": "f2837c39",
   "metadata": {},
   "outputs": [
    {
     "name": "stdout",
     "output_type": "stream",
     "text": [
      "tensor([[-0.1053,  0.0180, -0.0355,  0.0200,  0.0391,  0.0174, -0.0149, -0.0670,\n",
      "          0.0272, -0.0990]], grad_fn=<AddmmBackward0>)\n"
     ]
    }
   ],
   "source": [
    "input = torch.randn(1, 1, 32, 32)\n",
    "out = net(input)\n",
    "print(out)"
   ]
  },
  {
   "cell_type": "markdown",
   "id": "2d14fe33",
   "metadata": {},
   "source": [
    "creamos una entrada ficticia que representa una imagen de 32x32 con 1\n",
    " canal de color  Normalmente, cargaría un mosaico de imagen y lo convertiría a\n",
    " un tensor de esta forma.\n",
    "\n",
    " Es posible que haya notado una dimensión adicional en nuestro tensor: el * lote\n",
    " dimensión.* Los modelos de PyTorch asumen que están trabajando en *lotes* de datos\n",
    " - por ejemplo, un lote de 16 de nuestros mosaicos de imágenes tendría la forma\n",
    " ``(16, 1, 32, 32)``.  En nuestro caso saeia ``(6, 3, 5, 5)``.\n",
    "\n",
    " Le pedimos al modelo una inferencia llamándolo como una función:\n",
    " ``red(entrada)``.  La salida de esta llamada representa el modelo\n",
    " confianza de que la entrada representa un dígito particular.  (Desde esto\n",
    " instancia del modelo aún no ha aprendido nada, no deberíamos esperar\n",
    " para ver cualquier señal en la salida.) Mirando la forma de ``salida``, podemos\n",
    " puede ver que también tiene una dimensión de lote, cuyo tamaño debe\n",
    " siempre coincida con la dimensión del lote de entrada.  Si hubiésemos pasado en una entrada\n",
    " lote de 16 instancias, ``salida`` tendría una forma de ``(16, 10)``.\n",
    "\n"
   ]
  },
  {
   "cell_type": "markdown",
   "id": "a51d535f",
   "metadata": {},
   "source": [
    "Cero los buffers de gradiente de todos los parámetros y backprops con random gradientes: "
   ]
  },
  {
   "cell_type": "code",
   "execution_count": 11,
   "id": "1129007d",
   "metadata": {},
   "outputs": [],
   "source": [
    "net.zero_grad()\n",
    "out.backward(torch.randn(1, 10))"
   ]
  },
  {
   "cell_type": "markdown",
   "id": "d59f5c7f",
   "metadata": {},
   "source": [
    "<div class=\"alert alert-info\"><h4>Nota</h4><p>``torch.nn`` solo admite mini lotes.  Todo ``torch.nn``\n",
    "     El paquete solo admite entradas que son un mini lote de muestras, y no\n",
    "     una sola muestra\n",
    "\n",
    "\n",
    "    For example, ``nn.Conv2d`` will take in a 4D Tensor of\n",
    "    ``nSamples x nChannels x Height x Width``.\n",
    "\n",
    "    If you have a single sample, just use ``input.unsqueeze(0)`` to add\n",
    "    a fake batch dimension.</p></div>\n",
    "\n",
    "Antes de continuar, recapitulemos todas las clases que has visto hasta ahora.\n",
    "\n",
    "**Recap:**\n",
    "  -  ``torch.Tensor`` - UN *matriz multidimensional* compatible con autograd\n",
    "     operaciones como ``backward()``. Tambine *mantiene el gradiente* w.r.t. el\n",
    "     tensor.\n",
    "  -  ``nn.Module`` - Módulo de red neuronal.  * Manera conveniente de\n",
    "      encapsulando parámetros*, con asistentes para moverlos a la GPU,\n",
    "      exportar, cargar, etc.\n",
    "  -  ``nn.Parameter`` - Una especie de Tensor, que es *automáticamente\n",
    "      registrado como parámetro cuando se asigna como atributo a un*\n",
    "     ``Module``.\n",
    "  -  ``autograd.Function``- Implementa *definiciones hacia adelante y hacia atrás\n",
    "      de una operación de autograduación*. Cada ``Tensor`` la operación crea en\n",
    "      menos un solo nodo ``Función`` que se conecta a las funciones que\n",
    "      creó un ``Tensor`` y *codifica su historial*.\n",
    "\n",
    "**En este punto, cubrimos:**\n",
    "   - Definición de una red neuronal\n",
    "   - Procesamiento de entradas y llamadas hacia atrás.\n",
    "\n",
    "**Aún quedan:**\n",
    "   - Cálculo de la pérdida\n",
    "   - Actualización de los pesos de la red.\n",
    "\n",
    "Función de pérdida\n",
    "-------------\n",
    "Una función de pérdida toma el par de entradas (salida, objetivo) y calcula una\n",
    "valor que estima qué tan lejos está la salida del objetivo.\n",
    "\n",
    "Hay varios diferentes\n",
    "`funcion loss <https://pytorch.org/docs/nn.html#loss-functions>`_ bajo el\n",
    "nn paquete\n",
    "Una pérdida simple es: ``nn.MSELoss`` que calcula el error cuadrático medio\n",
    "entre la salida y el destino.\n",
    "\n",
    "Por ejemplo:"
   ]
  },
  {
   "cell_type": "code",
   "execution_count": 12,
   "id": "65a0750f",
   "metadata": {},
   "outputs": [
    {
     "name": "stdout",
     "output_type": "stream",
     "text": [
      "tensor(0.8330, grad_fn=<MseLossBackward0>)\n"
     ]
    }
   ],
   "source": [
    "output = net(input)\n",
    "target = torch.randn(10)   # un objetivo ficticio, por ejemplo\n",
    "target = target.view(1, -1)# haz que tenga la misma forma que la salida\n",
    "criterion = nn.MSELoss()\n",
    "\n",
    "loss = criterion(output, target)\n",
    "print(loss)"
   ]
  },
  {
   "cell_type": "markdown",
   "id": "443fa7af",
   "metadata": {},
   "source": [
    "**Ahora**, si sigues ``loss`` en dirección hacia atrás, usando su\n",
    " atributo ``.grad_fn``, verá un gráfico de cálculos que parece\n",
    " como esto:\n",
    "\n",
    "    input -> conv2d -> relu -> maxpool2d -> conv2d -> relu -> maxpool2d\n",
    "          -> flatten -> linear -> relu -> linear -> relu -> linear\n",
    "          -> MSELoss\n",
    "          -> loss\n",
    "\n",
    "Entonces, cuando llamamos a ``loss.backward()``, todo el gráfico se diferencia\n",
    " escriba los parámetros de la red neuronal y todos los tensores en el gráfico que tienen\n",
    " ``requires_grad=True`` tendrá su Tensor ``.grad`` acumulado con el\n",
    " degradado.\n",
    "\n",
    " A modo de ilustración, sigamos unos pasos hacia atrás:"
   ]
  },
  {
   "cell_type": "code",
   "execution_count": 13,
   "id": "96aec047",
   "metadata": {},
   "outputs": [
    {
     "name": "stdout",
     "output_type": "stream",
     "text": [
      "<MseLossBackward0 object at 0x7f5e50431760>\n",
      "<AddmmBackward0 object at 0x7f5e50431820>\n",
      "<AccumulateGrad object at 0x7f5e50431760>\n"
     ]
    }
   ],
   "source": [
    "print(loss.grad_fn)  # MSELoss\n",
    "print(loss.grad_fn.next_functions[0][0])  # Linear\n",
    "print(loss.grad_fn.next_functions[0][0].next_functions[0][0])  # ReLU"
   ]
  },
  {
   "cell_type": "markdown",
   "id": "014406a1",
   "metadata": {},
   "source": [
    "backprop\n",
    " --------\n",
    " Para retropropagar el error todo lo que tenemos que hacer es ``loss.backward()``.\n",
    " Sin embargo, debe borrar los gradientes existentes, de lo contrario, los gradientes serán\n",
    " acumulado a los gradientes existentes.\n",
    "\n",
    "\n",
    " Ahora llamaremos a ``loss.backward()``, y echaremos un vistazo al sesgo de conv1\n",
    " gradientes antes y después del retroceso."
   ]
  },
  {
   "cell_type": "code",
   "execution_count": 14,
   "id": "2ad482ef",
   "metadata": {},
   "outputs": [
    {
     "name": "stdout",
     "output_type": "stream",
     "text": [
      "conv1.bias.grad antes de backward\n",
      "tensor([0., 0., 0., 0., 0., 0.])\n",
      "conv1.bias.grad después de backward\n",
      "tensor([ 0.0134,  0.0054, -0.0256,  0.0170,  0.0173, -0.0089])\n"
     ]
    }
   ],
   "source": [
    "net.zero_grad()     # pone a cero los búferes de gradiente de todos los parámetros\n",
    "\n",
    "print('conv1.bias.grad antes de backward')\n",
    "print(net.conv1.bias.grad)\n",
    "\n",
    "loss.backward()\n",
    "\n",
    "print('conv1.bias.grad después de backward')\n",
    "print(net.conv1.bias.grad)"
   ]
  },
  {
   "cell_type": "markdown",
   "id": "7348da80",
   "metadata": {},
   "source": [
    "Ahora, hemos visto cómo usar las funciones de pérdida.\n",
    "\n",
    " **Leer más tarde:**\n",
    "\n",
    "   El paquete de red neuronal contiene varios módulos y funciones de pérdida\n",
    "   que forman los componentes básicos de las redes neuronales profundas.  Una lista completa con\n",
    "   la documentación está `aquí <https://pytorch.org/docs/nn>`_.\n",
    "\n",
    " **Lo único que queda por aprender es:**\n",
    "\n",
    " …implementa todos estos métodos.  Usarlo es muy simple:\n",
    "\n"
   ]
  },
  {
   "cell_type": "code",
   "execution_count": 15,
   "id": "d389cff4",
   "metadata": {},
   "outputs": [],
   "source": [
    "import torch.optim as optim\n",
    "\n",
    "# crea tu optimizador\n",
    "optimizer = optim.SGD(net.parameters(), lr=0.001, momentum=0.9)\n",
    "\n",
    "# en tu ciclo de entrenamiento:\n",
    "optimizer.zero_grad()   # poner a cero los búferes de gradiente\n",
    "\n",
    "output = net(input)\n",
    "loss = criterion(output, target)\n",
    "loss.backward()\n",
    "optimizer.step()       # Actualizamos"
   ]
  },
  {
   "cell_type": "markdown",
   "id": "7aefb504",
   "metadata": {},
   "source": [
    ".. Note::\n",
    "\n",
    "       Observe cómo los búferes de gradiente tenían que establecerse manualmente en cero usando\n",
    "       ``optimizador.zero_grad()``.  Esto se debe a que los gradientes se acumulan\n",
    "       como se explica en la sección `Backprop`_."
   ]
  },
  {
   "cell_type": "markdown",
   "id": "71d0b809",
   "metadata": {},
   "source": [
    "\n",
    "Conjuntos de datos y cargadores de datos\n",
    "------------------------"
   ]
  },
  {
   "cell_type": "markdown",
   "id": "95020b36",
   "metadata": {},
   "source": [
    "A continuación, vamos a demostrar cómo usar uno de los archivos listos para descargar,\n",
    " conjuntos de datos de acceso abierto de TorchVision, cómo transformar las imágenes para\n",
    " consumo por su modelo, y cómo usar el DataLoader para alimentar lotes\n",
    " de datos a su modelo.\n",
    "\n",
    " Lo primero que tenemos que hacer es transformar nuestras imágenes entrantes en un\n",
    " Tensor PyTorch."
   ]
  },
  {
   "cell_type": "code",
   "execution_count": 16,
   "id": "3cfcbcdd",
   "metadata": {},
   "outputs": [],
   "source": [
    "#%matplotlib inline\n",
    "\n",
    "import torch\n",
    "import torchvision\n",
    "import torchvision.transforms as transforms\n",
    "\n",
    "transform = transforms.Compose(\n",
    "    [transforms.ToTensor(),\n",
    "     transforms.Normalize((0.5, 0.5, 0.5), (0.5, 0.5, 0.5))])"
   ]
  },
  {
   "cell_type": "markdown",
   "id": "e7b49804",
   "metadata": {},
   "source": [
    "Aquí, especificamos dos transformaciones para nuestra entrada:\n",
    "\n",
    " - ``transforms.ToTensor()`` convierte las imágenes cargadas por Pillow en \n",
    "    Tensores PyTorch.\n",
    " - ``transforms.Normalize()`` ajusta los valores del tensor para que\n",
    "    que su promedio es cero y su desviación estándar es 0.5.  La mayoría\n",
    "    Las funciones de activación tienen sus gradientes más fuertes alrededor de x = 0, por lo que\n",
    "    centrar nuestros datos allí puede acelerar el aprendizaje.\n",
    "\n",
    " Hay muchas más transformaciones disponibles, que incluyen recortar, centrar,\n",
    " rotación y reflexión.\n",
    "\n",
    " A continuación, crearemos una instancia del conjunto de datos CIFAR10.  Este es un conjunto de\n",
    " Mosaicos de imágenes en color de 32x32 que representan 10 clases de objetos: 6 de animales\n",
    " (pájaro, gato, venado, perro, rana, caballo) y 4 de vehículos (avión,\n",
    " automóvil, barco, camión):"
   ]
  },
  {
   "cell_type": "code",
   "execution_count": 17,
   "id": "ddf462bf",
   "metadata": {},
   "outputs": [
    {
     "name": "stdout",
     "output_type": "stream",
     "text": [
      "Files already downloaded and verified\n"
     ]
    }
   ],
   "source": [
    "trainset = torchvision.datasets.CIFAR10(root='./data', train=True,\n",
    "                                        download=True, transform=transform)"
   ]
  },
  {
   "cell_type": "markdown",
   "id": "798386d7",
   "metadata": {},
   "source": [
    "<div class=\"alert alert-info\"><h4>Nota</h4><p>Cuando ejecuta la celda de arriba, puede tomar un poco de tiempo para el \n",
    "      conjunto de datos para descargar.</p></div>\n",
    "\n",
    " Este es un ejemplo de creación de un objeto de conjunto de datos en PyTorch.  Descargable\n",
    " conjuntos de datos (como CIFAR-10 arriba) son subclases de\n",
    " ``torch.utils.data.Dataset``.  Las clases ``Dataset`` en PyTorch incluyen el\n",
    " conjuntos de datos descargables en TorchVision, Torchtext y TorchAudio, así como\n",
    " como clases de conjuntos de datos de utilidad como ``torchvision.datasets.ImageFolder``,\n",
    " que leerá una carpeta de imágenes etiquetadas.  Tu también puedes crear el tuyo\n",
    " subclases de ``Dataset``.\n",
    "\n",
    " Cuando creamos una instancia de nuestro conjunto de datos, debemos decirle algunas cosas:\n",
    "\n",
    " - La ruta del sistema de archivos a donde queremos que vayan los datos. \n",
    " - Si estamos utilizando o no este conjunto para el entrenamiento;  la mayoría de los conjuntos de datos\n",
    "    se dividirá en subconjuntos de entrenamiento y prueba.\n",
    " - Si nos gustaría descargar el conjunto de datos si aún no lo hemos hecho.\n",
    " - Las transformaciones que queremos aplicar a los datos.\n",
    "\n",
    " Una vez que su conjunto de datos esté listo, puede dárselo al ``DataLoader``:"
   ]
  },
  {
   "cell_type": "code",
   "execution_count": 18,
   "id": "8eb7e712",
   "metadata": {},
   "outputs": [],
   "source": [
    "trainloader = torch.utils.data.DataLoader(trainset, batch_size=4,\n",
    "                                          shuffle=True, num_workers=2)"
   ]
  },
  {
   "cell_type": "markdown",
   "id": "ec40b206",
   "metadata": {},
   "source": [
    "Una subclase ``Dataset`` envuelve el acceso a los datos y está especializada en\n",
    " el tipo de datos que está sirviendo.  El ``DataLoader`` no sabe *nada* sobre\n",
    " los datos, pero organiza los tensores de entrada servidos por el ``Conjunto de datos`` en\n",
    " lotes con los parámetros que especifique.\n",
    "\n",
    " En el ejemplo anterior, le hemos pedido a un ``DataLoader`` que nos dé lotes de\n",
    " 4 imágenes de ``trainset``, aleatorizando su orden (``shuffle=True``),\n",
    " y le dijimos que activara dos trabajadores para cargar datos desde el disco.\n"
   ]
  },
  {
   "cell_type": "code",
   "execution_count": 19,
   "id": "2d159c8c",
   "metadata": {},
   "outputs": [
    {
     "name": "stdout",
     "output_type": "stream",
     "text": [
      " ship  ship   cat   cat\n"
     ]
    },
    {
     "data": {
      "image/png": "[encoded data removed]",
      "text/plain": [
       "<Figure size 432x288 with 1 Axes>"
      ]
     },
     "metadata": {
      "needs_background": "light"
     },
     "output_type": "display_data"
    }
   ],
   "source": [
    "import matplotlib.pyplot as plt\n",
    "import numpy as np\n",
    "\n",
    "classes = ('plane', 'car', 'bird', 'cat',\n",
    "           'deer', 'dog', 'frog', 'horse', 'ship', 'truck')\n",
    "\n",
    "def imshow(img):\n",
    "    img = img / 2 + 0.5     # unnormalize\n",
    "    npimg = img.numpy()\n",
    "    plt.imshow(np.transpose(npimg, (1, 2, 0)))\n",
    "\n",
    "\n",
    "# get some random training images\n",
    "dataiter = iter(trainloader)\n",
    "images, labels = dataiter.next()\n",
    "\n",
    "# show images\n",
    "imshow(torchvision.utils.make_grid(images))\n",
    "# print labels\n",
    "print(' '.join('%5s' % classes[labels[j]] for j in range(4)))"
   ]
  },
  {
   "cell_type": "markdown",
   "id": "a98cbb81",
   "metadata": {},
   "source": [
    "Ejecutar la celda anterior debería mostrarle una tira de cuatro imágenes, y el\n",
    " etiqueta correcta para cada uno.\n",
    "\n",
    " Entrenamiento de su modelo PyTorch\n",
    " ---------------------------\n",
    "\n",
    " Juntemos todas las piezas y entrenemos un modelo:"
   ]
  },
  {
   "cell_type": "code",
   "execution_count": 20,
   "id": "e4c8bc16",
   "metadata": {},
   "outputs": [],
   "source": [
    "#%matplotlib inline\n",
    "\n",
    "import torch\n",
    "import torch.nn as nn\n",
    "import torch.nn.functional as F\n",
    "import torch.optim as optim\n",
    "\n",
    "import torchvision\n",
    "import torchvision.transforms as transforms\n",
    "\n",
    "import matplotlib\n",
    "import matplotlib.pyplot as plt\n",
    "import numpy as np"
   ]
  },
  {
   "cell_type": "markdown",
   "id": "4546345a",
   "metadata": {},
   "source": [
    "Primero, necesitaremos conjuntos de datos de entrenamiento y prueba.  Si aún no lo has hecho,\n",
    " ejecute la celda a continuación para asegurarse de que se descargue el conjunto de datos.  (Se puede tomar\n",
    " un minuto.)"
   ]
  },
  {
   "cell_type": "code",
   "execution_count": 24,
   "id": "893abfd3",
   "metadata": {},
   "outputs": [
    {
     "name": "stdout",
     "output_type": "stream",
     "text": [
      "Files already downloaded and verified\n",
      "Files already downloaded and verified\n"
     ]
    }
   ],
   "source": [
    "transform = transforms.Compose(\n",
    "    [transforms.ToTensor(),\n",
    "     transforms.Normalize((0.5, 0.5, 0.5), (0.5, 0.5, 0.5))])\n",
    "\n",
    "trainset = torchvision.datasets.CIFAR10(root='./data', train=True,\n",
    "                                        download=True, transform=transform)\n",
    "trainloader = torch.utils.data.DataLoader(trainset, batch_size=4,\n",
    "                                          shuffle=True, num_workers=2)\n",
    "\n",
    "testset = torchvision.datasets.CIFAR10(root='./data', train=False,\n",
    "                                       download=True, transform=transform)\n",
    "testloader = torch.utils.data.DataLoader(testset, batch_size=4,\n",
    "                                         shuffle=False, num_workers=2)\n",
    "\n",
    "classes = ('plane', 'car', 'bird', 'cat',\n",
    "           'deer', 'dog', 'frog', 'horse', 'ship', 'truck')"
   ]
  },
  {
   "cell_type": "markdown",
   "id": "71fe0c01",
   "metadata": {},
   "source": [
    "Ejecutaremos nuestra verificación en la salida de ``DataLoader``:"
   ]
  },
  {
   "cell_type": "code",
   "execution_count": 25,
   "id": "a57cf5eb",
   "metadata": {},
   "outputs": [
    {
     "name": "stdout",
     "output_type": "stream",
     "text": [
      "plane   cat  bird  bird\n"
     ]
    },
    {
     "data": {
      "image/png": "[encoded data removed]",
      "text/plain": [
       "<Figure size 432x288 with 1 Axes>"
      ]
     },
     "metadata": {
      "needs_background": "light"
     },
     "output_type": "display_data"
    }
   ],
   "source": [
    "# functions to show an image\n",
    "def imshow(img):\n",
    "    img = img / 2 + 0.5     # unnormalize\n",
    "    npimg = img.numpy()\n",
    "    plt.imshow(np.transpose(npimg, (1, 2, 0)))\n",
    "\n",
    "\n",
    "# get some random training images\n",
    "dataiter = iter(trainloader)\n",
    "images, labels = dataiter.next()\n",
    "\n",
    "# show images\n",
    "imshow(torchvision.utils.make_grid(images))\n",
    "# print labels\n",
    "print(' '.join('%5s' % classes[labels[j]] for j in range(4)))"
   ]
  },
  {
   "cell_type": "code",
   "execution_count": 29,
   "id": "6898118e",
   "metadata": {},
   "outputs": [],
   "source": [
    "class Net(nn.Module):\n",
    "    def __init__(self):\n",
    "        super(Net, self).__init__()\n",
    "        self.conv1 = nn.Conv2d(3, 6, 5)\n",
    "        self.pool = nn.MaxPool2d(2, 2)\n",
    "        self.conv2 = nn.Conv2d(6, 16, 5)\n",
    "        self.fc1 = nn.Linear(16 * 5 * 5, 120)\n",
    "        self.fc2 = nn.Linear(120, 84)\n",
    "        self.fc3 = nn.Linear(84, 10)\n",
    "\n",
    "    def forward(self, x):\n",
    "        x = self.pool(F.relu(self.conv1(x)))\n",
    "        x = self.pool(F.relu(self.conv2(x)))\n",
    "        x = x.view(-1, 16 * 5 * 5)\n",
    "        x = F.relu(self.fc1(x))\n",
    "        x = F.relu(self.fc2(x))\n",
    "        x = self.fc3(x)\n",
    "        return x\n",
    "\n",
    "\n",
    "Net = Net()"
   ]
  },
  {
   "cell_type": "markdown",
   "id": "cfee6d05",
   "metadata": {},
   "source": [
    "Los últimos ingredientes que necesitamos son una función de pérdida y un optimizador:"
   ]
  },
  {
   "cell_type": "code",
   "execution_count": 31,
   "id": "c3ec82ed",
   "metadata": {},
   "outputs": [],
   "source": [
    "criterion = nn.CrossEntropyLoss()\n",
    "optimizer = optim.SGD(net.parameters(), lr=0.001, momentum=0.9)"
   ]
  },
  {
   "cell_type": "markdown",
   "id": "b4ab80df",
   "metadata": {},
   "source": [
    "Este es el modelo que entrenaremos.  Si te resulta familiar, es porque es\n",
    " una variante de LeNet, discutida anteriormente en este video, adaptada para\n",
    " Imágenes de 3 colores."
   ]
  },
  {
   "cell_type": "code",
   "execution_count": 32,
   "id": "4dadb029",
   "metadata": {
    "scrolled": true
   },
   "outputs": [
    {
     "name": "stdout",
     "output_type": "stream",
     "text": [
      "[1,  2000] loss: 2.304\n",
      "[1,  4000] loss: 2.304\n",
      "[1,  6000] loss: 2.302\n",
      "[1,  8000] loss: 2.304\n",
      "[1, 10000] loss: 2.303\n",
      "[1, 12000] loss: 2.304\n",
      "[2,  2000] loss: 2.303\n",
      "[2,  4000] loss: 2.304\n",
      "[2,  6000] loss: 2.304\n",
      "[2,  8000] loss: 2.303\n",
      "[2, 10000] loss: 2.304\n",
      "[2, 12000] loss: 2.303\n",
      "Finished Training\n"
     ]
    }
   ],
   "source": [
    "for epoch in range(2):  # loop over the dataset multiple times\n",
    "\n",
    "    running_loss = 0.0\n",
    "    for i, data in enumerate(trainloader, 0):\n",
    "        # get the inputs\n",
    "        inputs, labels = data\n",
    "\n",
    "        # zero the parameter gradients\n",
    "        optimizer.zero_grad()\n",
    "\n",
    "        # forward + backward + optimize\n",
    "        outputs = Net(inputs)\n",
    "        loss = criterion(outputs, labels)\n",
    "        loss.backward()\n",
    "        optimizer.step()\n",
    "\n",
    "        # print statistics\n",
    "        running_loss += loss.item()\n",
    "        if i % 2000 == 1999:    # print every 2000 mini-batches\n",
    "            print('[%d, %5d] loss: %.3f' %\n",
    "                  (epoch + 1, i + 1, running_loss / 2000))\n",
    "            running_loss = 0.0\n",
    "\n",
    "print('Finished Training')"
   ]
  },
  {
   "cell_type": "markdown",
   "id": "f53d87bc",
   "metadata": {},
   "source": [
    "Aquí, estamos haciendo solo **2 épocas de entrenamiento** (línea 1), es decir, dos\n",
    " pasa sobre el conjunto de datos de entrenamiento.  Cada pasada tiene un lazo interior que\n",
    " **itera sobre los datos de entrenamiento** (línea 4), sirviendo lotes de\n",
    " imágenes de entrada transformadas y sus etiquetas correctas.\n",
    "\n",
    " **Poner a cero los gradientes** (línea 9) es un paso importante.  Los gradientes son\n",
    " acumulado en un lote;  si no los reseteamos para cada lote, ellos\n",
    " seguirá acumulándose, lo que proporcionará valores de gradiente incorrectos,\n",
    " haciendo imposible el aprendizaje.\n",
    "\n",
    " En la línea 12, **preguntamos al modelo por sus predicciones** sobre este lote.  En\n",
    " la siguiente línea (13), calculamos la pérdida - la diferencia entre\n",
    " ``salidas`` (la predicción del modelo) y ``etiquetas`` (la salida correcta).\n",
    "\n",
    " En la línea 14, hacemos el pase ``hacia atrás()`` y calculamos los gradientes\n",
    " que dirigirá el aprendizaje.\n",
    "\n",
    " En la línea 15, el optimizador realiza un paso de aprendizaje: utiliza el\n",
    " gradientes de la llamada ``backward()`` para empujar los pesos de aprendizaje en\n",
    " la dirección que cree que reducirá la pérdida.\n",
    "\n",
    " El resto del bucle hace algunos informes ligeros sobre el número de época,\n",
    " cuántas instancias de capacitación se han completado y cuáles son los datos recopilados\n",
    " la pérdida es sobre el ciclo de entrenamiento.\n",
    "\n",
    " **Cuando ejecuta la celda de arriba,** debería ver algo como esto:\n",
    "\n",
    " ::\n",
    "\n",
    "    [1, 2000] pérdida: 2.235\n",
    "    [1, 4000] pérdida: 1.940\n",
    "    [1, 6000] pérdida: 1.713\n",
    "    [1, 8000] pérdida: 1.573\n",
    "    [1, 10000] pérdida: 1.507\n",
    "    [1, 12000] pérdida: 1.442\n",
    "    [2, 2000] pérdida: 1.378\n",
    "    [2, 4000] pérdida: 1.364\n",
    "    [2, 6000] pérdida: 1.349\n",
    "    [2, 8000] pérdida: 1.319\n",
    "    [2, 10000] pérdida: 1.284\n",
    "    [2, 12000] pérdida: 1.267\n",
    "    Entrenamiento terminado\n",
    "\n",
    " Tenga en cuenta que la pérdida es monótonamente descendente, lo que indica que nuestro\n",
    " El modelo continúa mejorando su rendimiento en el conjunto de datos de entrenamiento.\n",
    "\n",
    " Como paso final, debemos comprobar que el modelo realmente está haciendo\n",
    " aprendizaje *general*, y no simplemente \"memorizar\" el conjunto de datos.  Esto es\n",
    " llamado **sobreajuste** y generalmente indica que el conjunto de datos es demasiado\n",
    " pequeño (no hay suficientes ejemplos para el aprendizaje general), o que el modelo tiene\n",
    " más parámetros de aprendizaje de los que necesita para modelar correctamente el conjunto de datos.\n",
    "\n",
    " Esta es la razón por la que los conjuntos de datos se dividen en subconjuntos de entrenamiento y prueba:\n",
    " para probar la generalidad del modelo, le pedimos que haga predicciones sobre\n",
    " datos en los que no se ha entrenado:"
   ]
  },
  {
   "cell_type": "code",
   "execution_count": 33,
   "id": "6f3d5684",
   "metadata": {},
   "outputs": [
    {
     "name": "stdout",
     "output_type": "stream",
     "text": [
      "Accuracy of the network on the 10000 test images: 10 %\n"
     ]
    }
   ],
   "source": [
    "correct = 0\n",
    "total = 0\n",
    "with torch.no_grad():\n",
    "    for data in testloader:\n",
    "        images, labels = data\n",
    "        outputs = Net(images)\n",
    "        _, predicted = torch.max(outputs.data, 1)\n",
    "        total += labels.size(0)\n",
    "        correct += (predicted == labels).sum().item()\n",
    "\n",
    "print('Accuracy of the network on the 10000 test images: %d %%' % (\n",
    "    100 * correct / total))"
   ]
  },
  {
   "cell_type": "code",
   "execution_count": null,
   "id": "c8b13999",
   "metadata": {},
   "outputs": [],
   "source": []
  }
 ],
 "metadata": {
  "kernelspec": {
   "display_name": "Python 3 (ipykernel)",
   "language": "python",
   "name": "python3"
  },
  "language_info": {
   "codemirror_mode": {
    "name": "ipython",
    "version": 3
   },
   "file_extension": ".py",
   "mimetype": "text/x-python",
   "name": "python",
   "nbconvert_exporter": "python",
   "pygments_lexer": "ipython3",
   "version": "3.9.7"
  }
 },
 "nbformat": 4,
 "nbformat_minor": 5
}
